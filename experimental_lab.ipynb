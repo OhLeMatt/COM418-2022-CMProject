{
 "cells": [
  {
   "cell_type": "code",
   "execution_count": 1,
   "metadata": {},
   "outputs": [],
   "source": [
    "import numpy as np\n",
    "import midi_utils as mu\n",
    "from midi_utils import NOTES\n",
    "import scales"
   ]
  },
  {
   "cell_type": "code",
   "execution_count": 2,
   "metadata": {},
   "outputs": [
    {
     "name": "stdout",
     "output_type": "stream",
     "text": [
      "['C' 'D' 'E' 'F' 'G' 'A' 'B']\n",
      "['C' 'D' 'Eb' 'F' 'G' 'Ab' 'Bb']\n"
     ]
    }
   ],
   "source": [
    "c_major = scales.diatonic_scale(NOTES[\"C\"], scales.Mode.MAJOR)\n",
    "c_minor = scales.diatonic_scale(NOTES[\"C\"], scales.Mode.MINOR)\n",
    "\n",
    "print(c_major.names)\n",
    "print(c_minor.names)\n"
   ]
  },
  {
   "cell_type": "code",
   "execution_count": 3,
   "metadata": {},
   "outputs": [
    {
     "name": "stdout",
     "output_type": "stream",
     "text": [
      "[0 0 0 2 4 2 0 4 2 2 0]\n",
      "['C' 'C' 'C' 'D' 'E' 'D' 'C' 'E' 'D' 'D' 'C']\n",
      "['DO' 'DO' 'DO' 'RE' 'MI' 'RE' 'DO' 'MI' 'RE' 'RE' 'DO']\n"
     ]
    }
   ],
   "source": [
    "frere_jacques = c_major([0, 0, 0, 1, 2, 1, 0, 2, 1, 1, 0])\n",
    "print(frere_jacques)\n",
    "print(mu.CHROMA_NAMES[frere_jacques])\n",
    "print(mu.CHROMA_ALT_NAMES[frere_jacques])"
   ]
  },
  {
   "cell_type": "code",
   "execution_count": null,
   "metadata": {},
   "outputs": [],
   "source": []
  }
 ],
 "metadata": {
  "interpreter": {
   "hash": "a745e65f00ba40f4710b3eb53765bd6a652c39d81dd3857a25c705af3598b4bd"
  },
  "kernelspec": {
   "display_name": "Python 3.9.7 64-bit",
   "language": "python",
   "name": "python3"
  },
  "language_info": {
   "codemirror_mode": {
    "name": "ipython",
    "version": 3
   },
   "file_extension": ".py",
   "mimetype": "text/x-python",
   "name": "python",
   "nbconvert_exporter": "python",
   "pygments_lexer": "ipython3",
   "version": "3.9.7"
  },
  "orig_nbformat": 4
 },
 "nbformat": 4,
 "nbformat_minor": 2
}
