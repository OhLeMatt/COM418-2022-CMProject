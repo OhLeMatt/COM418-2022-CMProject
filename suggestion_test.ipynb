{
 "cells": [
  {
   "cell_type": "code",
   "execution_count": 136,
   "id": "e301c4c5",
   "metadata": {},
   "outputs": [
    {
     "name": "stdout",
     "output_type": "stream",
     "text": [
      "The autoreload extension is already loaded. To reload it, use:\n",
      "  %reload_ext autoreload\n"
     ]
    }
   ],
   "source": [
    "%load_ext autoreload\n",
    "%autoreload 2\n",
    "import mido\n",
    "import numpy as np\n",
    "from itertools import combinations\n",
    "\n",
    "from music_tools.midi_frame import MidiFrame\n",
    "import music_tools.scales as scales\n",
    "import music_tools.midi_utils as mu\n",
    "from music_tools.chords import ChordSuggester"
   ]
  },
  {
   "cell_type": "code",
   "execution_count": 143,
   "id": "455a4238",
   "metadata": {},
   "outputs": [
    {
     "name": "stdout",
     "output_type": "stream",
     "text": [
      "Lydian Scale in F\n",
      "['F' 'G' 'A' 'B' 'C' 'D' 'E']\n",
      "======================\n",
      "[[ 9  0  4]\n",
      " [ 9  2  4]\n",
      " [ 9 11  4]\n",
      " [ 5  9  4]\n",
      " [ 7  9  4]]\n",
      "[['A' 'C' 'E']\n",
      " ['A' 'D' 'E']\n",
      " ['A' 'B' 'E']\n",
      " ['F' 'A' 'E']\n",
      " ['G' 'A' 'E']]\n"
     ]
    }
   ],
   "source": [
    "\n",
    "m = mido.MidiFile(filename=\"MIDI_Files/vivconct.mid\")\n",
    "mf = MidiFrame(m, info_type=\"dispatched\")\n",
    "mf.make_playing_track_frame([i for i in range(16)])\n",
    "\n",
    "music_dataframe = mf.playing_track_frame.get_sub_dataframe(0, 10)\n",
    "\n",
    "scale = scales.suggest_scales(mu.to_chroma(music_dataframe.note.to_numpy()))[0]\n",
    "scale = scale[0].scale_in(scale[1])\n",
    "print(scale)\n",
    "print(mu.CHROMA_NAMES[scale.chromas])\n",
    "print(\"======================\")\n",
    "\n",
    "note_count = 3\n",
    "chord_count = 5 # not a problem if more than nb of combinations\n",
    "sug = ChordSuggester(scale, music_dataframe, note_count=note_count)\n",
    "chords = sug.suggest_chords(chord_count)\n",
    "print(chords)\n",
    "print(mu.CHROMA_NAMES[sug.suggest_chords(chord_count)])"
   ]
  },
  {
   "cell_type": "code",
   "execution_count": 109,
   "id": "86e8c53c",
   "metadata": {},
   "outputs": [
    {
     "data": {
      "text/plain": [
       "array([27, 12,  9, 18, 27])"
      ]
     },
     "execution_count": 109,
     "metadata": {},
     "output_type": "execute_result"
    }
   ],
   "source": [
    "0.3472222222222222"
   ]
  }
 ],
 "metadata": {
  "kernelspec": {
   "display_name": "Python 3.9.7 64-bit",
   "language": "python",
   "name": "python3"
  },
  "language_info": {
   "codemirror_mode": {
    "name": "ipython",
    "version": 3
   },
   "file_extension": ".py",
   "mimetype": "text/x-python",
   "name": "python",
   "nbconvert_exporter": "python",
   "pygments_lexer": "ipython3",
   "version": "3.9.7"
  },
  "vscode": {
   "interpreter": {
    "hash": "a745e65f00ba40f4710b3eb53765bd6a652c39d81dd3857a25c705af3598b4bd"
   }
  }
 },
 "nbformat": 4,
 "nbformat_minor": 5
}
