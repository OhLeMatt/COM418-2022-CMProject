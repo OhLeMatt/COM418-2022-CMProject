{
 "cells": [
  {
   "cell_type": "code",
   "execution_count": 2,
   "id": "e301c4c5",
   "metadata": {},
   "outputs": [],
   "source": [
    "%load_ext autoreload\n",
    "%autoreload 2\n",
    "import mido\n",
    "import numpy as np\n",
    "from itertools import combinations\n",
    "\n",
    "from music_tools.midi_frame import MidiFrame\n",
    "import music_tools.scales as scales\n",
    "import music_tools.midi_utils as mu\n",
    "from music_tools.chords import ChordSuggester"
   ]
  },
  {
   "cell_type": "code",
   "execution_count": 3,
   "id": "455a4238",
   "metadata": {},
   "outputs": [
    {
     "name": "stdout",
     "output_type": "stream",
     "text": [
      "Lydian Scale in F\n",
      "['F' 'G' 'A' 'B' 'C' 'D' 'E']\n",
      "======================\n",
      "[[ 9  0  4]\n",
      " [ 9  2  4]\n",
      " [ 9 11  4]\n",
      " [ 5  9  4]\n",
      " [ 7  9  4]]\n",
      "[['A' 'C' 'E']\n",
      " ['A' 'D' 'E']\n",
      " ['A' 'B' 'E']\n",
      " ['F' 'A' 'E']\n",
      " ['G' 'A' 'E']]\n"
     ]
    },
    {
     "name": "stderr",
     "output_type": "stream",
     "text": [
      "c:\\Users\\anony\\AppData\\Local\\Programs\\Python\\Python39\\lib\\site-packages\\pandas\\core\\indexing.py:1732: SettingWithCopyWarning: \n",
      "A value is trying to be set on a copy of a slice from a DataFrame\n",
      "\n",
      "See the caveats in the documentation: https://pandas.pydata.org/pandas-docs/stable/user_guide/indexing.html#returning-a-view-versus-a-copy\n",
      "  self._setitem_single_block(indexer, value, name)\n"
     ]
    }
   ],
   "source": [
    "\n",
    "m = mido.MidiFile(filename=\"MIDI_Files/vivconct.mid\")\n",
    "mf = MidiFrame(m, info_type=\"dispatched\")\n",
    "mf.make_playing_track_frame([i for i in range(16)])\n",
    "\n",
    "notes = mu.to_chroma(mf.playing_track_frame.get_sub_dataframe(0, 10).note.to_numpy())\n",
    "\n",
    "scale = scales.suggest_scales(notes)[0]\n",
    "scale = scale[0].scale_in(scale[1])\n",
    "print(scale)\n",
    "print(mu.CHROMA_NAMES[scale.chromas])\n",
    "print(\"======================\")\n",
    "\n",
    "nb_note = 3\n",
    "nb_chord = 5 # not a problem if more than nb of combinations\n",
    "sug = ChordSuggester(nb_note, scale, notes)\n",
    "chords = sug.suggest_chords(nb_chord)\n",
    "print(chords)\n",
    "print(mu.CHROMA_NAMES[sug.suggest_chords(nb_chord)])"
   ]
  },
  {
   "cell_type": "code",
   "execution_count": null,
   "id": "86e8c53c",
   "metadata": {},
   "outputs": [],
   "source": []
  }
 ],
 "metadata": {
  "kernelspec": {
   "display_name": "Python 3.9.7 64-bit",
   "language": "python",
   "name": "python3"
  },
  "language_info": {
   "codemirror_mode": {
    "name": "ipython",
    "version": 3
   },
   "file_extension": ".py",
   "mimetype": "text/x-python",
   "name": "python",
   "nbconvert_exporter": "python",
   "pygments_lexer": "ipython3",
   "version": "3.9.7"
  },
  "vscode": {
   "interpreter": {
    "hash": "a745e65f00ba40f4710b3eb53765bd6a652c39d81dd3857a25c705af3598b4bd"
   }
  }
 },
 "nbformat": 4,
 "nbformat_minor": 5
}
