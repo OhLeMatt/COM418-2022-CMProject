{
 "cells": [
  {
   "cell_type": "code",
   "execution_count": 104,
   "metadata": {},
   "outputs": [
    {
     "name": "stdout",
     "output_type": "stream",
     "text": [
      "The autoreload extension is already loaded. To reload it, use:\n",
      "  %reload_ext autoreload\n"
     ]
    }
   ],
   "source": [
    "%matplotlib ipympl\n",
    "%load_ext autoreload\n",
    "%autoreload 2\n",
    "import mido\n",
    "import matplotlib.pyplot as plt\n",
    "import matplotlib.patches as patches\n",
    "import pandas as pd\n",
    "import numpy as np\n",
    "from pretty_midi import PrettyMIDI\n",
    "import midi_utils as mu\n",
    "from midi_frame import MidiFrame\n",
    "import scales"
   ]
  },
  {
   "cell_type": "code",
   "execution_count": 105,
   "metadata": {},
   "outputs": [
    {
     "name": "stdout",
     "output_type": "stream",
     "text": [
      "Info type: dispatched\n",
      "Filename: MIDI_Files/Never-Gonna-Give-You-Up-3.mid\n",
      "Midi type: 0\n",
      "Track count: 1\n",
      "Music track count: 16\n",
      "Ticks per beat: 384\n",
      "Length: 216.2045180000046\n",
      "Channel 00:\n",
      "\tMessage count/channel: 0 (3)\n",
      "\tCC Message count/channel: 0 (2)\n",
      "\tMeta Message count: 0\n",
      "\tUsed Message types: control_change, program_change\n",
      "\tRelated Track names: 0013GIVE\n",
      "Channel 01:\n",
      "\tMessage count/channel: 1 (37)\n",
      "\tCC Message count/channel: 1 (13)\n",
      "\tMeta Message count: 0\n",
      "\tUsed Message types: control_change, pitchwheel, note_on, note_off, program_change\n",
      "\tRelated Track names: 0013GIVE\n",
      "Channel 02:\n",
      "\tMessage count/channel: 2 (1662)\n",
      "\tCC Message count/channel: 2 (13)\n",
      "\tMeta Message count: 0\n",
      "\tUsed Message types: note_on, control_change, note_off, program_change\n",
      "\tRelated Track names: 0013GIVE\n",
      "Channel 03:\n",
      "\tMessage count/channel: 3 (1008)\n",
      "\tCC Message count/channel: 3 (13)\n",
      "\tMeta Message count: 0\n",
      "\tUsed Message types: note_on, control_change, note_off, program_change\n",
      "\tRelated Track names: 0013GIVE\n",
      "Channel 04:\n",
      "\tMessage count/channel: 4 (152)\n",
      "\tCC Message count/channel: 4 (13)\n",
      "\tMeta Message count: 0\n",
      "\tUsed Message types: note_on, control_change, note_off, program_change\n",
      "\tRelated Track names: 0013GIVE\n",
      "Channel 05:\n",
      "\tMessage count/channel: 5 (108)\n",
      "\tCC Message count/channel: 5 (13)\n",
      "\tMeta Message count: 0\n",
      "\tUsed Message types: note_on, control_change, note_off, program_change\n",
      "\tRelated Track names: 0013GIVE\n",
      "Channel 06:\n",
      "\tMessage count/channel: 6 (254)\n",
      "\tCC Message count/channel: 6 (13)\n",
      "\tMeta Message count: 0\n",
      "\tUsed Message types: note_on, control_change, note_off, program_change\n",
      "\tRelated Track names: 0013GIVE\n",
      "Channel 07:\n",
      "\tMessage count/channel: 7 (298)\n",
      "\tCC Message count/channel: 7 (13)\n",
      "\tMeta Message count: 0\n",
      "\tUsed Message types: note_on, control_change, note_off, program_change\n",
      "\tRelated Track names: 0013GIVE\n",
      "Channel 08:\n",
      "\tMessage count/channel: 8 (396)\n",
      "\tCC Message count/channel: 8 (27)\n",
      "\tMeta Message count: 0\n",
      "\tUsed Message types: note_on, control_change, note_off, program_change\n",
      "\tRelated Track names: 0013GIVE\n",
      "Channel 09:\n",
      "\tMessage count/channel: 9 (3210)\n",
      "\tCC Message count/channel: 9 (13)\n",
      "\tMeta Message count: 0\n",
      "\tUsed Message types: note_on, control_change, note_off, program_change\n",
      "\tRelated Track names: 0013GIVE\n",
      "Channel 10:\n",
      "\tMessage count/channel: 10 (46)\n",
      "\tCC Message count/channel: 10 (13)\n",
      "\tMeta Message count: 0\n",
      "\tUsed Message types: note_on, control_change, note_off, program_change\n",
      "\tRelated Track names: 0013GIVE\n",
      "Channel 11:\n",
      "\tMessage count/channel: 11 (3)\n",
      "\tCC Message count/channel: 11 (2)\n",
      "\tMeta Message count: 0\n",
      "\tUsed Message types: control_change, program_change\n",
      "\tRelated Track names: 0013GIVE\n",
      "Channel 12:\n",
      "\tMessage count/channel: 12 (3)\n",
      "\tCC Message count/channel: 12 (2)\n",
      "\tMeta Message count: 0\n",
      "\tUsed Message types: control_change, program_change\n",
      "\tRelated Track names: 0013GIVE\n",
      "Channel 13:\n",
      "\tMessage count/channel: 13 (702)\n",
      "\tCC Message count/channel: 13 (13)\n",
      "\tMeta Message count: 0\n",
      "\tUsed Message types: note_on, control_change, note_off, program_change\n",
      "\tRelated Track names: 0013GIVE\n",
      "Channel 14:\n",
      "\tMessage count/channel: 14 (96)\n",
      "\tCC Message count/channel: 14 (13)\n",
      "\tMeta Message count: 0\n",
      "\tUsed Message types: note_on, control_change, note_off, program_change\n",
      "\tRelated Track names: 0013GIVE\n",
      "Channel 15:\n",
      "\tMessage count/channel: 15 (1098)\n",
      "\tCC Message count/channel: 15 (13)\n",
      "\tMeta Message count: 0\n",
      "\tUsed Message types: note_on, control_change, note_off, program_change\n",
      "\tRelated Track names: 0013GIVE\n",
      "Meta (Meta Track):\n",
      "\tMeta Message count: 11\n",
      "\tUsed Message types: text, track_name, set_tempo, end_of_track, time_signature\n",
      "\n"
     ]
    }
   ],
   "source": [
    "MIDI_FOLDER = \"MIDI_Files/\"\n",
    "\n",
    "# filename = \"KCP_Major_1.mid\"\n",
    "# filename = \"Under-The-Sea.mid\"\n",
    "# filename = \"Wii Channels - Mii Channel.mid\"\n",
    "# filename = \"mii_channel_reexported.mid\"\n",
    "# filename = \"test_piano.mid\"\n",
    "# filename = \"chpn-p1.mid\"\n",
    "# filename = \"HesaPirate.mid\"\n",
    "# filename = \"toto-africa.mid\"\n",
    "# filename = \"vivconct.mid\"\n",
    "# filename = \"take_on_me_aha.mid\"\n",
    "filename = \"Never-Gonna-Give-You-Up-3.mid\"\n",
    "m = mido.MidiFile(filename=MIDI_FOLDER + filename)\n",
    "mf = MidiFrame(m, info_type=\"dispatched\")\n",
    "print(mf)"
   ]
  },
  {
   "cell_type": "code",
   "execution_count": null,
   "metadata": {},
   "outputs": [],
   "source": [
    "# music = PrettyMIDI(midi_file=filename)\n",
    "# bla = music.synthesize(fs=22050)\n",
    "# print(bla[40000:50000])\n",
    "# sd.play(bla, 22050)"
   ]
  },
  {
   "cell_type": "code",
   "execution_count": 115,
   "metadata": {},
   "outputs": [
    {
     "name": "stdout",
     "output_type": "stream",
     "text": [
      "Channel 06:\n",
      "\tMessage count/channel: 6 (254)\n",
      "\tCC Message count/channel: 6 (13)\n",
      "\tMeta Message count: 0\n",
      "\tUsed Message types: note_on, control_change, note_off, program_change\n",
      "\tRelated Track names: 0013GIVE\n",
      "\n",
      "           time  channel  note  velocity  time_release  time_duration  \\\n",
      "0    119.162720        6    58        85    119.385171       0.222451   \n",
      "1    119.162720        6    61        86    119.385171       0.222451   \n",
      "2    119.162720        6    65        87    119.385171       0.222451   \n",
      "3    119.544065        6    65        84    119.607623       0.063558   \n",
      "4    119.544065        6    61        84    119.607623       0.063558   \n",
      "..          ...      ...   ...       ...           ...            ...   \n",
      "115  133.908060        6    58        88    134.130511       0.222451   \n",
      "116  133.908060        6    65        85    134.130511       0.222451   \n",
      "117  134.162290        6    56        87    134.225848       0.063558   \n",
      "118  134.162290        6    60        86    134.225848       0.063558   \n",
      "119  134.162290        6    63        85    134.225848       0.063558   \n",
      "\n",
      "     velocity_release  \n",
      "0                  85  \n",
      "1                  86  \n",
      "2                  87  \n",
      "3                  84  \n",
      "4                  84  \n",
      "..                ...  \n",
      "115                88  \n",
      "116                85  \n",
      "117                87  \n",
      "118                86  \n",
      "119                85  \n",
      "\n",
      "[120 rows x 7 columns]\n"
     ]
    }
   ],
   "source": [
    "track_frame_index = 6\n",
    "print(mf.track_frames[track_frame_index])\n",
    "pd_track = mu.track_to_dataframe(mf.track_frames[track_frame_index].track)\n",
    "print(pd_track)"
   ]
  },
  {
   "cell_type": "code",
   "execution_count": 116,
   "metadata": {},
   "outputs": [
    {
     "data": {
      "application/vnd.jupyter.widget-view+json": {
       "model_id": "f90b226db06c4a4e8a62247f93d484d4",
       "version_major": 2,
       "version_minor": 0
      },
      "image/png": "[encoded data removed]",
      "text/html": [
       "\n",
       "            <div style=\"display: inline-block;\">\n",
       "                <div class=\"jupyter-widgets widget-label\" style=\"text-align: center;\">\n",
       "                    Figure\n",
       "                </div>\n",
       "                <img src='data:image/png;base64,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' width=640.0/>\n",
       "            </div>\n",
       "        "
      ],
      "text/plain": [
       "Canvas(toolbar=Toolbar(toolitems=[('Home', 'Reset original view', 'home', 'home'), ('Back', 'Back to previous …"
      ]
     },
     "metadata": {},
     "output_type": "display_data"
    }
   ],
   "source": [
    "def plot_music(scheduled_style_df: pd.DataFrame, chroma_plot=False, ax=None, cmap=plt.get_cmap(\"gist_rainbow\")):\n",
    "    if ax is None:\n",
    "        _, ax = plt.subplots()\n",
    "    \n",
    "    df_copy = scheduled_style_df[[\"time\", \"note\", \"time_duration\", \"time_release\"]]\n",
    "    if chroma_plot:\n",
    "        df_copy.loc[:, \"note\"] = mu.to_chroma(df_copy[\"note\"])\n",
    "    for i, x in df_copy.iterrows():\n",
    "        rect = patches.Rectangle((x.time, x.note - 0.5), width=x.time_duration, height=1, linewidth=0.2, edgecolor=(0,0,0), facecolor=cmap(x.note))\n",
    "        ax.add_patch(rect)\n",
    "    plt.xlim(0, df_copy.time_release.max())\n",
    "    plt.ylim(df_copy.note.min() - 3, df_copy.note.max() + 3)\n",
    "\n",
    "plot_music(pd_track, chroma_plot=False)"
   ]
  },
  {
   "cell_type": "code",
   "execution_count": 103,
   "metadata": {},
   "outputs": [
    {
     "ename": "NameError",
     "evalue": "name 'scales' is not defined",
     "output_type": "error",
     "traceback": [
      "\u001b[1;31m---------------------------------------------------------------------------\u001b[0m",
      "\u001b[1;31mNameError\u001b[0m                                 Traceback (most recent call last)",
      "\u001b[1;32mc:\\Work\\MA4\\CompMus\\COM418-2022-CMProject\\midi_lab.ipynb Cell 6'\u001b[0m in \u001b[0;36m<module>\u001b[1;34m\u001b[0m\n\u001b[0;32m      <a href='vscode-notebook-cell:/c%3A/Work/MA4/CompMus/COM418-2022-CMProject/midi_lab.ipynb#ch0000005?line=4'>5</a>\u001b[0m midi_ids \u001b[39m+\u001b[39m\u001b[39m=\u001b[39m (transposition\u001b[39m%\u001b[39m\u001b[39m12\u001b[39m)\n\u001b[0;32m      <a href='vscode-notebook-cell:/c%3A/Work/MA4/CompMus/COM418-2022-CMProject/midi_lab.ipynb#ch0000005?line=6'>7</a>\u001b[0m \u001b[39m# general_scale_subset = scales.create_general_scale_subset()\u001b[39;00m\n\u001b[1;32m----> <a href='vscode-notebook-cell:/c%3A/Work/MA4/CompMus/COM418-2022-CMProject/midi_lab.ipynb#ch0000005?line=7'>8</a>\u001b[0m general_scale_subset \u001b[39m=\u001b[39m scales\u001b[39m.\u001b[39mcreate_general_scale_subset(note_counts\u001b[39m=\u001b[39m[\u001b[39m5\u001b[39m,\u001b[39m7\u001b[39m])\n\u001b[0;32m     <a href='vscode-notebook-cell:/c%3A/Work/MA4/CompMus/COM418-2022-CMProject/midi_lab.ipynb#ch0000005?line=9'>10</a>\u001b[0m \u001b[39mprint\u001b[39m(\u001b[39mlen\u001b[39m(general_scale_subset), \u001b[39m\"\u001b[39m\u001b[39mgeneral scales will be examined\u001b[39m\u001b[39m\"\u001b[39m)\n\u001b[0;32m     <a href='vscode-notebook-cell:/c%3A/Work/MA4/CompMus/COM418-2022-CMProject/midi_lab.ipynb#ch0000005?line=10'>11</a>\u001b[0m music_note_count \u001b[39m=\u001b[39m \u001b[39mlen\u001b[39m(midi_ids)\n",
      "\u001b[1;31mNameError\u001b[0m: name 'scales' is not defined"
     ]
    }
   ],
   "source": [
    "midi_ids = pd_track.note.to_numpy()\n",
    "\n",
    "# Transposition:\n",
    "transposition = 0\n",
    "midi_ids += (transposition%12)\n",
    "\n",
    "# general_scale_subset = scales.create_general_scale_subset()\n",
    "general_scale_subset = scales.create_general_scale_subset(note_counts=[5,7])\n",
    "\n",
    "print(len(general_scale_subset), \"general scales will be examined\")\n",
    "music_note_count = len(midi_ids)\n",
    "print(\"Music note count:\", music_note_count)\n",
    "window_size = max(int(music_note_count * 0.1), 14)\n",
    "print(\"Window size:\", window_size)\n",
    "\n",
    "print(scales.windowed_suggest_scales(midi_ids, threshold=0.9, window_size=window_size, window_threshold=0.9, general_scale_subset=general_scale_subset))"
   ]
  }
 ],
 "metadata": {
  "interpreter": {
   "hash": "a745e65f00ba40f4710b3eb53765bd6a652c39d81dd3857a25c705af3598b4bd"
  },
  "kernelspec": {
   "display_name": "Python 3",
   "language": "python",
   "name": "python3"
  },
  "language_info": {
   "codemirror_mode": {
    "name": "ipython",
    "version": 3
   },
   "file_extension": ".py",
   "mimetype": "text/x-python",
   "name": "python",
   "nbconvert_exporter": "python",
   "pygments_lexer": "ipython3",
   "version": "3.9.7"
  },
  "toc": {
   "base_numbering": 1,
   "nav_menu": {},
   "number_sections": true,
   "sideBar": true,
   "skip_h1_title": false,
   "title_cell": "Table of Contents",
   "title_sidebar": "Contents",
   "toc_cell": false,
   "toc_position": {},
   "toc_section_display": true,
   "toc_window_display": false
  }
 },
 "nbformat": 4,
 "nbformat_minor": 2
}
