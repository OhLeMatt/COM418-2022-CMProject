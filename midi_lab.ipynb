{
 "cells": [
  {
   "cell_type": "code",
   "execution_count": 1,
   "metadata": {},
   "outputs": [],
   "source": [
    "%matplotlib ipympl\n",
    "import mido\n",
    "import matplotlib.pyplot as plt\n",
    "import matplotlib.patches as patches\n",
    "import pandas as pd"
   ]
  },
  {
   "cell_type": "code",
   "execution_count": 2,
   "metadata": {},
   "outputs": [
    {
     "name": "stdout",
     "output_type": "stream",
     "text": [
      "=== Track 0\n",
      "MetaMessage('time_signature', numerator=4, denominator=4, clocks_per_click=24, notated_32nd_notes_per_beat=8, time=0)\n",
      "MetaMessage('set_tempo', tempo=315789, time=0)\n",
      "MetaMessage('key_signature', key='C', time=0)\n",
      "MetaMessage('end_of_track', time=0)\n",
      "=== Track 1\n",
      "MetaMessage('track_name', name='harmony:Piano Full Voicing', time=0)\n",
      "Message('note_on', channel=0, note=48, velocity=71, time=0)\n",
      "Message('note_on', channel=0, note=55, velocity=71, time=0)\n",
      "Message('note_on', channel=0, note=60, velocity=71, time=0)\n",
      "Message('note_on', channel=0, note=64, velocity=71, time=0)\n",
      "Message('note_off', channel=0, note=48, velocity=90, time=4094)\n",
      "Message('note_off', channel=0, note=55, velocity=90, time=0)\n",
      "Message('note_off', channel=0, note=60, velocity=90, time=0)\n",
      "Message('note_off', channel=0, note=64, velocity=90, time=0)\n",
      "Message('note_on', channel=0, note=43, velocity=71, time=2)\n",
      "Message('note_on', channel=0, note=50, velocity=71, time=0)\n",
      "Message('note_on', channel=0, note=59, velocity=71, time=0)\n",
      "Message('note_on', channel=0, note=67, velocity=71, time=0)\n",
      "Message('note_off', channel=0, note=43, velocity=90, time=4094)\n",
      "Message('note_off', channel=0, note=50, velocity=90, time=0)\n",
      "Message('note_off', channel=0, note=59, velocity=90, time=0)\n",
      "Message('note_off', channel=0, note=67, velocity=90, time=0)\n",
      "Message('note_on', channel=0, note=45, velocity=71, time=2)\n",
      "Message('note_on', channel=0, note=52, velocity=71, time=0)\n",
      "Message('note_on', channel=0, note=60, velocity=71, time=0)\n",
      "Message('note_on', channel=0, note=64, velocity=71, time=0)\n",
      "Message('note_off', channel=0, note=45, velocity=90, time=4094)\n",
      "Message('note_off', channel=0, note=52, velocity=90, time=0)\n",
      "Message('note_off', channel=0, note=60, velocity=90, time=0)\n",
      "Message('note_off', channel=0, note=64, velocity=90, time=0)\n",
      "Message('note_on', channel=0, note=41, velocity=71, time=2)\n",
      "Message('note_on', channel=0, note=57, velocity=71, time=0)\n",
      "Message('note_on', channel=0, note=60, velocity=71, time=0)\n",
      "Message('note_on', channel=0, note=65, velocity=71, time=0)\n",
      "Message('note_off', channel=0, note=41, velocity=90, time=4094)\n",
      "Message('note_off', channel=0, note=57, velocity=90, time=0)\n",
      "Message('note_off', channel=0, note=60, velocity=90, time=0)\n",
      "Message('note_off', channel=0, note=65, velocity=90, time=0)\n",
      "MetaMessage('end_of_track', time=0)\n",
      "None\n"
     ]
    }
   ],
   "source": [
    "filename = \"KCP Major 1.mid\"\n",
    "m = mido.MidiFile(filename=filename)\n",
    "print(m.print_tracks())"
   ]
  },
  {
   "cell_type": "code",
   "execution_count": 6,
   "metadata": {},
   "outputs": [
    {
     "name": "stdout",
     "output_type": "stream",
     "text": [
      "     time  note  velocity  channel  id  time_release  time_duration  \\\n",
      "0       0    48        71        0   0          4094           4094   \n",
      "1       0    55        71        0   1          4094           4094   \n",
      "2       0    60        71        0   2          4094           4094   \n",
      "3       0    64        71        0   3          4094           4094   \n",
      "4    4096    43        71        0   4          8190           4094   \n",
      "5    4096    50        71        0   5          8190           4094   \n",
      "6    4096    59        71        0   6          8190           4094   \n",
      "7    4096    67        71        0   7          8190           4094   \n",
      "8    8192    45        71        0   8         12286           4094   \n",
      "9    8192    52        71        0   9         12286           4094   \n",
      "10   8192    60        71        0  10         12286           4094   \n",
      "11   8192    64        71        0  11         12286           4094   \n",
      "12  12288    41        71        0  12         16382           4094   \n",
      "13  12288    57        71        0  13         16382           4094   \n",
      "14  12288    60        71        0  14         16382           4094   \n",
      "15  12288    65        71        0  15         16382           4094   \n",
      "\n",
      "    velocity_release  \n",
      "0                 90  \n",
      "1                 90  \n",
      "2                 90  \n",
      "3                 90  \n",
      "4                 90  \n",
      "5                 90  \n",
      "6                 90  \n",
      "7                 90  \n",
      "8                 90  \n",
      "9                 90  \n",
      "10                90  \n",
      "11                90  \n",
      "12                90  \n",
      "13                90  \n",
      "14                90  \n",
      "15                90  \n"
     ]
    }
   ],
   "source": [
    "\n",
    "def track_to_dataframe(track, event_style=False):\n",
    "    records = []\n",
    "    track_name = \"\"\n",
    "    current_time = 0\n",
    "    # Event style dataframe\n",
    "    if event_style:\n",
    "        for x in track:\n",
    "            new_dict = x.__dict__.copy()\n",
    "            if new_dict[\"type\"] == \"track_name\":\n",
    "                track_name = new_dict[\"name\"]\n",
    "            else:\n",
    "                #Swapping name for coherence\n",
    "                new_dict[\"time_diff\"] = new_dict[\"time\"] \n",
    "                current_time += new_dict[\"time_diff\"]\n",
    "                new_dict[\"time\"] = current_time\n",
    "                new_dict[\"pressed\"] = new_dict[\"type\"] == \"note_on\"\n",
    "                new_dict[\"released\"] = new_dict[\"type\"] == \"note_off\"\n",
    "                records.append(new_dict)\n",
    "    else:\n",
    "        # Scheduled dataframe\n",
    "        pressed_notes = {}\n",
    "        id = 0\n",
    "        for x in track:\n",
    "            new_dict = x.__dict__.copy()\n",
    "            if new_dict[\"type\"] == \"track_name\":\n",
    "                track_name = new_dict[\"name\"]\n",
    "            else:\n",
    "                current_time += new_dict[\"time\"]\n",
    "                new_dict[\"time\"] = current_time\n",
    "                new_dict[\"id\"] = id\n",
    "                new_dict[\"time_release\"] = None\n",
    "                new_dict[\"time_duration\"] = None\n",
    "                new_dict[\"velocity_release\"] = None\n",
    "                if new_dict[\"type\"] == \"note_off\":\n",
    "                    former_pressed_note = pressed_notes[new_dict[\"note\"]]\n",
    "                    if former_pressed_note is None:\n",
    "                        raise ValueError(\"The given track has a released note that was never pressed in the first place\")\n",
    "                    pressed_record = records[former_pressed_note[\"id\"]]\n",
    "                    pressed_record[\"time_release\"] = current_time\n",
    "                    pressed_record[\"time_duration\"] = current_time - pressed_record[\"time\"]\n",
    "                    pressed_record[\"velocity_release\"] = new_dict[\"velocity\"]\n",
    "                    pressed_notes[new_dict[\"note\"]] = None\n",
    "                elif new_dict[\"type\"] == \"note_on\":\n",
    "                    pressed_notes[new_dict[\"note\"]] = {\"id\": id}\n",
    "                    del new_dict[\"type\"]\n",
    "                    records.append(new_dict)\n",
    "                    id += 1\n",
    "                                    \n",
    "    return pd.DataFrame(records)\n",
    "\n",
    "pd_track = track_to_dataframe(m.tracks[1])\n",
    "print(pd_track)\n",
    "\n"
   ]
  },
  {
   "cell_type": "code",
   "execution_count": 29,
   "metadata": {},
   "outputs": [
    {
     "data": {
      "application/vnd.jupyter.widget-view+json": {
       "model_id": "caad917627194d42bec4880e46431f04",
       "version_major": 2,
       "version_minor": 0
      },
      "image/png": "[encoded data removed]",
      "text/html": [
       "\n",
       "            <div style=\"display: inline-block;\">\n",
       "                <div class=\"jupyter-widgets widget-label\" style=\"text-align: center;\">\n",
       "                    Figure\n",
       "                </div>\n",
       "                <img src='data:image/png;base64,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' width=640.0/>\n",
       "            </div>\n",
       "        "
      ],
      "text/plain": [
       "Canvas(toolbar=Toolbar(toolitems=[('Home', 'Reset original view', 'home', 'home'), ('Back', 'Back to previous …"
      ]
     },
     "metadata": {},
     "output_type": "display_data"
    }
   ],
   "source": [
    "\n",
    "\n",
    "def plot_music(scheduled_style_df: pd.DataFrame, ax=None, cmap=plt.get_cmap(\"gist_rainbow\")):\n",
    "    if ax is None:\n",
    "        _, ax = plt.subplots()\n",
    "\n",
    "    for i, x in scheduled_style_df.iterrows():\n",
    "        rect = patches.Rectangle((x.time, x.note), width=x.time_duration, height=1, linewidth=0, facecolor=cmap(x.note))\n",
    "        ax.add_patch(rect)\n",
    "    plt.xlim(0, scheduled_style_df.time_release.max())\n",
    "    plt.ylim(scheduled_style_df.note.min() - 3, scheduled_style_df.note.max() + 3)\n",
    "        \n",
    "\n",
    "plot_music(pd_track)\n",
    "\n"
   ]
  },
  {
   "cell_type": "code",
   "execution_count": null,
   "metadata": {},
   "outputs": [],
   "source": []
  }
 ],
 "metadata": {
  "interpreter": {
   "hash": "19c66857149c87409e2281d71ac97d81f5ed895447554e4bbf73d5e29d3cd9b0"
  },
  "kernelspec": {
   "display_name": "Python 3.9.7 64-bit",
   "language": "python",
   "name": "python3"
  },
  "language_info": {
   "codemirror_mode": {
    "name": "ipython",
    "version": 3
   },
   "file_extension": ".py",
   "mimetype": "text/x-python",
   "name": "python",
   "nbconvert_exporter": "python",
   "pygments_lexer": "ipython3",
   "version": "3.9.7"
  },
  "orig_nbformat": 4
 },
 "nbformat": 4,
 "nbformat_minor": 2
}
