{
 "cells": [
  {
   "cell_type": "code",
   "execution_count": 1,
   "metadata": {},
   "outputs": [],
   "source": [
    "%matplotlib ipympl\n",
    "import mido\n",
    "import matplotlib.pyplot as plt\n",
    "import matplotlib.patches as patches\n",
    "import pandas as pd"
   ]
  },
  {
   "cell_type": "code",
   "execution_count": 2,
   "metadata": {},
   "outputs": [
    {
     "name": "stdout",
     "output_type": "stream",
     "text": [
      "=== Track 0\n",
      "MetaMessage('time_signature', numerator=4, denominator=4, clocks_per_click=24, notated_32nd_notes_per_beat=8, time=0)\n",
      "MetaMessage('set_tempo', tempo=315789, time=0)\n",
      "MetaMessage('key_signature', key='C', time=0)\n",
      "MetaMessage('end_of_track', time=0)\n",
      "=== Track 1\n",
      "MetaMessage('track_name', name='harmony:Piano Full Voicing', time=0)\n",
      "Message('note_on', channel=0, note=48, velocity=71, time=0)\n",
      "Message('note_on', channel=0, note=55, velocity=71, time=0)\n",
      "Message('note_on', channel=0, note=60, velocity=71, time=0)\n",
      "Message('note_on', channel=0, note=64, velocity=71, time=0)\n",
      "Message('note_off', channel=0, note=48, velocity=90, time=4094)\n",
      "Message('note_off', channel=0, note=55, velocity=90, time=0)\n",
      "Message('note_off', channel=0, note=60, velocity=90, time=0)\n",
      "Message('note_off', channel=0, note=64, velocity=90, time=0)\n",
      "Message('note_on', channel=0, note=43, velocity=71, time=2)\n",
      "Message('note_on', channel=0, note=50, velocity=71, time=0)\n",
      "Message('note_on', channel=0, note=59, velocity=71, time=0)\n",
      "Message('note_on', channel=0, note=67, velocity=71, time=0)\n",
      "Message('note_off', channel=0, note=43, velocity=90, time=4094)\n",
      "Message('note_off', channel=0, note=50, velocity=90, time=0)\n",
      "Message('note_off', channel=0, note=59, velocity=90, time=0)\n",
      "Message('note_off', channel=0, note=67, velocity=90, time=0)\n",
      "Message('note_on', channel=0, note=45, velocity=71, time=2)\n",
      "Message('note_on', channel=0, note=52, velocity=71, time=0)\n",
      "Message('note_on', channel=0, note=60, velocity=71, time=0)\n",
      "Message('note_on', channel=0, note=64, velocity=71, time=0)\n",
      "Message('note_off', channel=0, note=45, velocity=90, time=4094)\n",
      "Message('note_off', channel=0, note=52, velocity=90, time=0)\n",
      "Message('note_off', channel=0, note=60, velocity=90, time=0)\n",
      "Message('note_off', channel=0, note=64, velocity=90, time=0)\n",
      "Message('note_on', channel=0, note=41, velocity=71, time=2)\n",
      "Message('note_on', channel=0, note=57, velocity=71, time=0)\n",
      "Message('note_on', channel=0, note=60, velocity=71, time=0)\n",
      "Message('note_on', channel=0, note=65, velocity=71, time=0)\n",
      "Message('note_off', channel=0, note=41, velocity=90, time=4094)\n",
      "Message('note_off', channel=0, note=57, velocity=90, time=0)\n",
      "Message('note_off', channel=0, note=60, velocity=90, time=0)\n",
      "Message('note_off', channel=0, note=65, velocity=90, time=0)\n",
      "MetaMessage('end_of_track', time=0)\n",
      "None\n"
     ]
    }
   ],
   "source": [
    "filename = \"KCP Major 1.mid\"\n",
    "m = mido.MidiFile(filename=filename)\n",
    "print(m.print_tracks())"
   ]
  },
  {
   "cell_type": "code",
   "execution_count": 6,
   "metadata": {},
   "outputs": [
    {
     "name": "stdout",
     "output_type": "stream",
     "text": [
      "     time  note  velocity  channel  id  time_release  time_duration  \\\n",
      "0       0    48        71        0   0          4094           4094   \n",
      "1       0    55        71        0   1          4094           4094   \n",
      "2       0    60        71        0   2          4094           4094   \n",
      "3       0    64        71        0   3          4094           4094   \n",
      "4    4096    43        71        0   4          8190           4094   \n",
      "5    4096    50        71        0   5          8190           4094   \n",
      "6    4096    59        71        0   6          8190           4094   \n",
      "7    4096    67        71        0   7          8190           4094   \n",
      "8    8192    45        71        0   8         12286           4094   \n",
      "9    8192    52        71        0   9         12286           4094   \n",
      "10   8192    60        71        0  10         12286           4094   \n",
      "11   8192    64        71        0  11         12286           4094   \n",
      "12  12288    41        71        0  12         16382           4094   \n",
      "13  12288    57        71        0  13         16382           4094   \n",
      "14  12288    60        71        0  14         16382           4094   \n",
      "15  12288    65        71        0  15         16382           4094   \n",
      "\n",
      "    velocity_release  \n",
      "0                 90  \n",
      "1                 90  \n",
      "2                 90  \n",
      "3                 90  \n",
      "4                 90  \n",
      "5                 90  \n",
      "6                 90  \n",
      "7                 90  \n",
      "8                 90  \n",
      "9                 90  \n",
      "10                90  \n",
      "11                90  \n",
      "12                90  \n",
      "13                90  \n",
      "14                90  \n",
      "15                90  \n"
     ]
    }
   ],
   "source": [
    "\n",
    "def track_to_dataframe(track, event_style=False):\n",
    "    records = []\n",
    "    track_name = \"\"\n",
    "    current_time = 0\n",
    "    # Event style dataframe\n",
    "    if event_style:\n",
    "        for x in track:\n",
    "            new_dict = x.__dict__.copy()\n",
    "            if new_dict[\"type\"] == \"track_name\":\n",
    "                track_name = new_dict[\"name\"]\n",
    "            else:\n",
    "                #Swapping name for coherence\n",
    "                new_dict[\"time_diff\"] = new_dict[\"time\"] \n",
    "                current_time += new_dict[\"time_diff\"]\n",
    "                new_dict[\"time\"] = current_time\n",
    "                new_dict[\"pressed\"] = new_dict[\"type\"] == \"note_on\"\n",
    "                new_dict[\"released\"] = new_dict[\"type\"] == \"note_off\"\n",
    "                records.append(new_dict)\n",
    "    else:\n",
    "        # Scheduled dataframe\n",
    "        pressed_notes = {}\n",
    "        id = 0\n",
    "        for x in track:\n",
    "            new_dict = x.__dict__.copy()\n",
    "            if new_dict[\"type\"] == \"track_name\":\n",
    "                track_name = new_dict[\"name\"]\n",
    "            else:\n",
    "                current_time += new_dict[\"time\"]\n",
    "                new_dict[\"time\"] = current_time\n",
    "                new_dict[\"id\"] = id\n",
    "                new_dict[\"time_release\"] = None\n",
    "                new_dict[\"time_duration\"] = None\n",
    "                new_dict[\"velocity_release\"] = None\n",
    "                if new_dict[\"type\"] == \"note_off\":\n",
    "                    former_pressed_note = pressed_notes[new_dict[\"note\"]]\n",
    "                    if former_pressed_note is None:\n",
    "                        raise ValueError(\"The given track has a released note that was never pressed in the first place\")\n",
    "                    pressed_record = records[former_pressed_note[\"id\"]]\n",
    "                    pressed_record[\"time_release\"] = current_time\n",
    "                    pressed_record[\"time_duration\"] = current_time - pressed_record[\"time\"]\n",
    "                    pressed_record[\"velocity_release\"] = new_dict[\"velocity\"]\n",
    "                    pressed_notes[new_dict[\"note\"]] = None\n",
    "                elif new_dict[\"type\"] == \"note_on\":\n",
    "                    pressed_notes[new_dict[\"note\"]] = {\"id\": id}\n",
    "                    del new_dict[\"type\"]\n",
    "                    records.append(new_dict)\n",
    "                    id += 1\n",
    "                                    \n",
    "    return pd.DataFrame(records)\n",
    "\n",
    "pd_track = track_to_dataframe(m.tracks[1])\n",
    "print(pd_track)\n",
    "\n"
   ]
  },
  {
   "cell_type": "code",
   "execution_count": 26,
   "metadata": {},
   "outputs": [
    {
     "name": "stderr",
     "output_type": "stream",
     "text": [
      "C:\\Users\\anony\\AppData\\Local\\Temp\\ipykernel_18940\\2290806247.py:3: RuntimeWarning: More than 20 figures have been opened. Figures created through the pyplot interface (`matplotlib.pyplot.figure`) are retained until explicitly closed and may consume too much memory. (To control this warning, see the rcParam `figure.max_open_warning`).\n",
      "  _, ax = plt.subplots()\n"
     ]
    },
    {
     "data": {
      "application/vnd.jupyter.widget-view+json": {
       "model_id": "7edd877b46b24a3c9a9b9c2dda84f00c",
       "version_major": 2,
       "version_minor": 0
      },
      "image/png": "[encoded data removed]",
      "text/html": [
       "\n",
       "            <div style=\"display: inline-block;\">\n",
       "                <div class=\"jupyter-widgets widget-label\" style=\"text-align: center;\">\n",
       "                    Figure\n",
       "                </div>\n",
       "                <img src='data:image/png;base64,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' width=640.0/>\n",
       "            </div>\n",
       "        "
      ],
      "text/plain": [
       "Canvas(toolbar=Toolbar(toolitems=[('Home', 'Reset original view', 'home', 'home'), ('Back', 'Back to previous …"
      ]
     },
     "metadata": {},
     "output_type": "display_data"
    }
   ],
   "source": [
    "\n",
    "\n",
    "def plot_music(scheduled_style_df: pd.DataFrame, ax=None, cmap=plt.get_cmap(\"gist_rainbow\")):\n",
    "    if ax is None:\n",
    "        _, ax = plt.subplots()\n",
    "\n",
    "    for i, x in scheduled_style_df.iterrows():\n",
    "        rect = patches.Rectangle((x.time, x.note), x.time_release, 1, linewidth=0, facecolor=cmap(x.note))\n",
    "        ax.add_patch(rect)\n",
    "    plt.xlim(0, scheduled_style_df.time.max())\n",
    "    plt.ylim(scheduled_style_df.note.min() - 3, scheduled_style_df.note.max() + 3)\n",
    "        \n",
    "\n",
    "plot_music(pd_track)\n",
    "\n"
   ]
  },
  {
   "cell_type": "code",
   "execution_count": null,
   "metadata": {},
   "outputs": [],
   "source": []
  }
 ],
 "metadata": {
  "interpreter": {
   "hash": "19c66857149c87409e2281d71ac97d81f5ed895447554e4bbf73d5e29d3cd9b0"
  },
  "kernelspec": {
   "display_name": "Python 3.9.7 64-bit",
   "language": "python",
   "name": "python3"
  },
  "language_info": {
   "codemirror_mode": {
    "name": "ipython",
    "version": 3
   },
   "file_extension": ".py",
   "mimetype": "text/x-python",
   "name": "python",
   "nbconvert_exporter": "python",
   "pygments_lexer": "ipython3",
   "version": "3.9.7"
  },
  "orig_nbformat": 4
 },
 "nbformat": 4,
 "nbformat_minor": 2
}
