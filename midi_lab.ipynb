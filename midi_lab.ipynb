{
 "cells": [
  {
   "cell_type": "code",
   "execution_count": 1,
   "metadata": {},
   "outputs": [],
   "source": [
    "%matplotlib ipympl\n",
    "%load_ext autoreload\n",
    "%autoreload 2\n",
    "import mido\n",
    "import matplotlib.pyplot as plt\n",
    "import matplotlib.patches as patches\n",
    "import pandas as pd\n",
    "import numpy as np\n",
    "from pretty_midi import PrettyMIDI\n",
    "import midi_utils as mu\n",
    "#import scales"
   ]
  },
  {
   "cell_type": "code",
   "execution_count": 12,
   "metadata": {},
   "outputs": [
    {
     "name": "stdout",
     "output_type": "stream",
     "text": [
      "info_type : filtered_dispatched\n",
      "filename : MIDI_Files/Never-Gonna-Give-You-Up-3.mid\n",
      "midi_type : 0\n",
      "track_count : 16\n",
      "music_track_count : 16\n",
      "ticks_per_beat : 384\n",
      "length : 216.2045180000046\n",
      "{'name': '0013GIVE Channel 1', 'meta_only': False, 'channel_count': {1: 37}, 'cc_count': {1: 13}, 'meta_count': 0, 'typeset': {'control_change', 'pitchwheel', 'note_on', 'note_off', 'program_change'}, 'get_track': <function get_midi_track_info.<locals>.<lambda> at 0x000001DBAB7C8160>}\n",
      "{'name': '0013GIVE Channel 2', 'meta_only': False, 'channel_count': {2: 1662}, 'cc_count': {2: 13}, 'meta_count': 0, 'typeset': {'note_on', 'control_change', 'note_off', 'program_change'}, 'get_track': <function get_midi_track_info.<locals>.<lambda> at 0x000001DBAB7B3DC0>}\n",
      "{'name': '0013GIVE Channel 3', 'meta_only': False, 'channel_count': {3: 1008}, 'cc_count': {3: 13}, 'meta_count': 0, 'typeset': {'note_on', 'control_change', 'note_off', 'program_change'}, 'get_track': <function get_midi_track_info.<locals>.<lambda> at 0x000001DBAB7B39D0>}\n",
      "{'name': '0013GIVE Channel 4', 'meta_only': False, 'channel_count': {4: 152}, 'cc_count': {4: 13}, 'meta_count': 0, 'typeset': {'note_on', 'control_change', 'note_off', 'program_change'}, 'get_track': <function get_midi_track_info.<locals>.<lambda> at 0x000001DBAD59B5E0>}\n",
      "{'name': '0013GIVE Channel 5', 'meta_only': False, 'channel_count': {5: 108}, 'cc_count': {5: 13}, 'meta_count': 0, 'typeset': {'note_on', 'control_change', 'note_off', 'program_change'}, 'get_track': <function get_midi_track_info.<locals>.<lambda> at 0x000001DBAD59B3A0>}\n",
      "{'name': '0013GIVE Channel 6', 'meta_only': False, 'channel_count': {6: 254}, 'cc_count': {6: 13}, 'meta_count': 0, 'typeset': {'note_on', 'control_change', 'note_off', 'program_change'}, 'get_track': <function get_midi_track_info.<locals>.<lambda> at 0x000001DBAD59B700>}\n",
      "{'name': '0013GIVE Channel 7', 'meta_only': False, 'channel_count': {7: 298}, 'cc_count': {7: 13}, 'meta_count': 0, 'typeset': {'note_on', 'control_change', 'note_off', 'program_change'}, 'get_track': <function get_midi_track_info.<locals>.<lambda> at 0x000001DBAD59B820>}\n",
      "{'name': '0013GIVE Channel 8', 'meta_only': False, 'channel_count': {8: 396}, 'cc_count': {8: 27}, 'meta_count': 0, 'typeset': {'note_on', 'control_change', 'note_off', 'program_change'}, 'get_track': <function get_midi_track_info.<locals>.<lambda> at 0x000001DBAD59B940>}\n",
      "{'name': '0013GIVE Channel 9', 'meta_only': False, 'channel_count': {9: 3210}, 'cc_count': {9: 13}, 'meta_count': 0, 'typeset': {'note_on', 'control_change', 'note_off', 'program_change'}, 'get_track': <function get_midi_track_info.<locals>.<lambda> at 0x000001DBAD59B1F0>}\n",
      "{'name': '0013GIVE Channel 10', 'meta_only': False, 'channel_count': {10: 46}, 'cc_count': {10: 13}, 'meta_count': 0, 'typeset': {'note_on', 'control_change', 'note_off', 'program_change'}, 'get_track': <function get_midi_track_info.<locals>.<lambda> at 0x000001DBAD59B8B0>}\n",
      "{'name': '0013GIVE Channel 13', 'meta_only': False, 'channel_count': {13: 702}, 'cc_count': {13: 13}, 'meta_count': 0, 'typeset': {'note_on', 'control_change', 'note_off', 'program_change'}, 'get_track': <function get_midi_track_info.<locals>.<lambda> at 0x000001DBAD59B430>}\n",
      "{'name': '0013GIVE Channel 14', 'meta_only': False, 'channel_count': {14: 96}, 'cc_count': {14: 13}, 'meta_count': 0, 'typeset': {'note_on', 'control_change', 'note_off', 'program_change'}, 'get_track': <function get_midi_track_info.<locals>.<lambda> at 0x000001DBAD59BA60>}\n",
      "{'name': '0013GIVE Channel 15', 'meta_only': False, 'channel_count': {15: 1098}, 'cc_count': {15: 13}, 'meta_count': 0, 'typeset': {'note_on', 'control_change', 'note_off', 'program_change'}, 'get_track': <function get_midi_track_info.<locals>.<lambda> at 0x000001DBAD59B790>}\n",
      "{'name': '0013GIVE Channel 0', 'meta_only': False, 'channel_count': {0: 3}, 'cc_count': {0: 2}, 'meta_count': 0, 'typeset': {'control_change', 'program_change'}, 'get_track': <function get_midi_track_info.<locals>.<lambda> at 0x000001DBAD59B550>}\n",
      "{'name': '0013GIVE Channel 11', 'meta_only': False, 'channel_count': {11: 3}, 'cc_count': {11: 2}, 'meta_count': 0, 'typeset': {'control_change', 'program_change'}, 'get_track': <function get_midi_track_info.<locals>.<lambda> at 0x000001DBADDD2310>}\n",
      "{'name': '0013GIVE Channel 12', 'meta_only': False, 'channel_count': {12: 3}, 'cc_count': {12: 2}, 'meta_count': 0, 'typeset': {'control_change', 'program_change'}, 'get_track': <function get_midi_track_info.<locals>.<lambda> at 0x000001DBADDD29D0>}\n"
     ]
    }
   ],
   "source": [
    "MIDI_FOLDER = \"MIDI_Files/\"\n",
    "\n",
    "# filename = \"KCP_Major_1.mid\"\n",
    "# filename = \"Under-The-Sea.mid\"\n",
    "# filename = \"Wii Channels - Mii Channel.mid\"\n",
    "# filename = \"mii_channel_reexported.mid\"\n",
    "# filename = \"test_piano.mid\"\n",
    "# filename = \"chpn-p1.mid\"\n",
    "# filename = \"HesaPirate.mid\"\n",
    "# filename = \"toto-africa.mid\"\n",
    "# filename = \"vivconct.mid\"\n",
    "# filename = \"take_on_me_aha.mid\"\n",
    "filename = \"Never-Gonna-Give-You-Up-3.mid\"\n",
    "m = mido.MidiFile(filename=MIDI_FOLDER + filename)\n",
    "minf = mu.get_midi_infos(m)\n",
    "minf = mu.filter_midi_infos(minf)\n",
    "minf = mu.dispatch_midi_infos_by_channel(minf, track_name_method=\"accumulate\")\n",
    "for k,v in minf.items():\n",
    "    if k != \"tracks_info\":\n",
    "        print(k, \":\", v)\n",
    "    else:\n",
    "        for x in v:\n",
    "            print(x)\n",
    "            \n",
    "# for x in m:\n",
    "#     print(x)"
   ]
  },
  {
   "cell_type": "code",
   "execution_count": null,
   "metadata": {},
   "outputs": [],
   "source": [
    "# music = PrettyMIDI(midi_file=filename)\n",
    "# bla = music.synthesize(fs=22050)\n",
    "# print(bla[40000:50000])\n",
    "# sd.play(bla, 22050)"
   ]
  },
  {
   "cell_type": "code",
   "execution_count": null,
   "metadata": {},
   "outputs": [],
   "source": [
    "def track_to_dataframe(track, event_style=False):\n",
    "    records = []\n",
    "    track_name = \"\"\n",
    "    current_time = 0\n",
    "    # Event style dataframe\n",
    "    if event_style:\n",
    "        for x in track:\n",
    "            new_dict = x.__dict__.copy()\n",
    "            if not x.is_meta():\n",
    "                #Swapping name for coherence\n",
    "                new_dict[\"time_diff\"] = new_dict[\"time\"] \n",
    "                current_time += new_dict[\"time_diff\"]\n",
    "                new_dict[\"time\"] = current_time\n",
    "                new_dict[\"pressed\"] = new_dict[\"type\"] == \"note_on\"\n",
    "                new_dict[\"released\"] = new_dict[\"type\"] == \"note_off\"\n",
    "                records.append(new_dict)\n",
    "    else:\n",
    "        # Streaming style dataframe\n",
    "        pressed_notes = {}\n",
    "        id = 0\n",
    "        for x in track:\n",
    "            new_dict = x.__dict__.copy()\n",
    "            if new_dict[\"type\"] == \"track_name\":\n",
    "                track_name = new_dict[\"name\"]\n",
    "            else:\n",
    "                current_time += new_dict[\"time\"]\n",
    "                new_dict[\"time\"] = current_time\n",
    "                new_dict[\"time_release\"] = None\n",
    "                new_dict[\"time_duration\"] = None\n",
    "                new_dict[\"velocity_release\"] = None\n",
    "                if new_dict[\"type\"] == \"note_off\":\n",
    "                    former_pressed_note = pressed_notes[new_dict[\"note\"]]\n",
    "                    if former_pressed_note is None:\n",
    "                        raise ValueError(\"The given track has a released note that was never pressed in the first place\")\n",
    "                    pressed_record = records[former_pressed_note[\"id\"]]\n",
    "                    pressed_record[\"time_release\"] = current_time\n",
    "                    pressed_record[\"time_duration\"] = current_time - pressed_record[\"time\"]\n",
    "                    pressed_record[\"velocity_release\"] = new_dict[\"velocity\"]\n",
    "                    pressed_notes[new_dict[\"note\"]] = None\n",
    "                elif new_dict[\"type\"] == \"note_on\":\n",
    "                    pressed_notes[new_dict[\"note\"]] = {\"id\": id}\n",
    "                    del new_dict[\"type\"]\n",
    "                    records.append(new_dict)\n",
    "                    id += 1\n",
    "                                        \n",
    "    return pd.DataFrame(records)\n",
    "\n",
    "pd_track = track_to_dataframe(m.tracks[1])\n",
    "print(pd_track)"
   ]
  },
  {
   "cell_type": "code",
   "execution_count": null,
   "metadata": {},
   "outputs": [],
   "source": [
    "def plot_music(scheduled_style_df: pd.DataFrame, chroma_plot=False, ax=None, cmap=plt.get_cmap(\"gist_rainbow\")):\n",
    "    if ax is None:\n",
    "        _, ax = plt.subplots()\n",
    "    \n",
    "    df_copy = scheduled_style_df[[\"time\", \"note\", \"time_duration\", \"time_release\"]]\n",
    "    if chroma_plot:\n",
    "        df_copy.loc[:, \"note\"] = mu.to_chroma(df_copy[\"note\"])\n",
    "    for i, x in df_copy.iterrows():\n",
    "        rect = patches.Rectangle((x.time, x.note - 0.5), width=x.time_duration, height=1, linewidth=0.2, edgecolor=(0,0,0), facecolor=cmap(x.note))\n",
    "        ax.add_patch(rect)\n",
    "    plt.xlim(0, df_copy.time_release.max())\n",
    "    plt.ylim(df_copy.note.min() - 3, df_copy.note.max() + 3)\n",
    "\n",
    "plot_music(pd_track, chroma_plot=False)"
   ]
  },
  {
   "cell_type": "code",
   "execution_count": null,
   "metadata": {},
   "outputs": [],
   "source": [
    "midi_ids = pd_track.note.to_numpy()\n",
    "\n",
    "# Transposition:\n",
    "transposition = 0\n",
    "midi_ids += (transposition%12)\n",
    "\n",
    "# general_scale_subset = scales.create_general_scale_subset()\n",
    "general_scale_subset = scales.create_general_scale_subset(note_counts=[5,7])\n",
    "\n",
    "print(len(general_scale_subset), \"general scales will be examined\")\n",
    "music_note_count = len(midi_ids)\n",
    "print(\"Music note count:\", music_note_count)\n",
    "window_size = max(int(music_note_count * 0.1), 14)\n",
    "print(\"Window size:\", window_size)\n",
    "\n",
    "print(scales.windowed_suggest_scales(midi_ids, threshold=0.9, window_size=window_size, window_threshold=0.9, general_scale_subset=general_scale_subset))"
   ]
  }
 ],
 "metadata": {
  "interpreter": {
   "hash": "a745e65f00ba40f4710b3eb53765bd6a652c39d81dd3857a25c705af3598b4bd"
  },
  "kernelspec": {
   "display_name": "Python 3",
   "language": "python",
   "name": "python3"
  },
  "language_info": {
   "codemirror_mode": {
    "name": "ipython",
    "version": 3
   },
   "file_extension": ".py",
   "mimetype": "text/x-python",
   "name": "python",
   "nbconvert_exporter": "python",
   "pygments_lexer": "ipython3",
   "version": "3.9.7"
  },
  "toc": {
   "base_numbering": 1,
   "nav_menu": {},
   "number_sections": true,
   "sideBar": true,
   "skip_h1_title": false,
   "title_cell": "Table of Contents",
   "title_sidebar": "Contents",
   "toc_cell": false,
   "toc_position": {},
   "toc_section_display": true,
   "toc_window_display": false
  }
 },
 "nbformat": 4,
 "nbformat_minor": 2
}
