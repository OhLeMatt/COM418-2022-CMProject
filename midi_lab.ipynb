{
 "cells": [
  {
   "cell_type": "code",
   "execution_count": 2,
   "metadata": {},
   "outputs": [],
   "source": [
    "%matplotlib ipympl\n",
    "%load_ext autoreload\n",
    "%autoreload 2\n",
    "import mido\n",
    "import matplotlib.pyplot as plt\n",
    "import matplotlib.patches as patches\n",
    "import pandas as pd\n",
    "import numpy as np\n",
    "from pretty_midi import PrettyMIDI\n",
    "import midi_utils as mu\n",
    "#import scales"
   ]
  },
  {
   "cell_type": "code",
   "execution_count": 19,
   "metadata": {},
   "outputs": [
    {
     "name": "stdout",
     "output_type": "stream",
     "text": [
      "MIDI Type: 1\n",
      "MidiTrack([\n",
      "  MetaMessage('smpte_offset', frame_rate=25, hours=32, minutes=0, seconds=0, frames=0, sub_frames=0, time=0),\n",
      "  MetaMessage('time_signature', numerator=4, denominator=4, clocks_per_click=24, notated_32nd_notes_per_beat=8, time=0),\n",
      "  MetaMessage('key_signature', key='A', time=0),\n",
      "  MetaMessage('set_tempo', tempo=499999, time=0),\n",
      "  MetaMessage('set_tempo', tempo=500003, time=0),\n",
      "  MetaMessage('set_tempo', tempo=499999, time=0),\n",
      "  MetaMessage('set_tempo', tempo=500003, time=0),\n",
      "  MetaMessage('set_tempo', tempo=500003, time=43008),\n",
      "  MetaMessage('set_tempo', tempo=504434, time=256),\n",
      "  MetaMessage('set_tempo', tempo=506432, time=256),\n",
      "  MetaMessage('set_tempo', tempo=508697, time=256),\n",
      "  MetaMessage('set_tempo', tempo=513029, time=256),\n",
      "  MetaMessage('set_tempo', tempo=515093, time=256),\n",
      "  MetaMessage('set_tempo', tempo=517436, time=256),\n",
      "  MetaMessage('set_tempo', tempo=519535, time=256),\n",
      "  MetaMessage('set_tempo', tempo=500003, time=512),\n",
      "  MetaMessage('set_tempo', tempo=499999, time=57087),\n",
      "  MetaMessage('set_tempo', tempo=500003, time=0),\n",
      "  MetaMessage('set_tempo', tempo=500003, time=1),\n",
      "  MetaMessage('set_tempo', tempo=500003, time=43008),\n",
      "  MetaMessage('set_tempo', tempo=504434, time=256),\n",
      "  MetaMessage('set_tempo', tempo=506432, time=256),\n",
      "  MetaMessage('set_tempo', tempo=508697, time=256),\n",
      "  MetaMessage('set_tempo', tempo=513029, time=256),\n",
      "  MetaMessage('set_tempo', tempo=515093, time=256),\n",
      "  MetaMessage('set_tempo', tempo=517436, time=256),\n",
      "  MetaMessage('set_tempo', tempo=519535, time=256),\n",
      "  MetaMessage('set_tempo', tempo=500003, time=512),\n",
      "  MetaMessage('end_of_track', time=56474)])\n"
     ]
    }
   ],
   "source": [
    "MIDI_FOLDER = \"MIDI_Files/\"\n",
    "\n",
    "# filename = \"KCP_Major_1.mid\"\n",
    "# filename = \"Under-The-Sea.mid\"\n",
    "filename = \"Wii Channels - Mii Channel.mid\"\n",
    "# filename = \"mii_channel_reexported.mid\"\n",
    "# filename = \"test_piano.mid\"\n",
    "m = mido.MidiFile(filename=MIDI_FOLDER + filename)\n",
    "print(\"MIDI Type:\", m.type)\n",
    "# print(m.print_tracks())\n",
    "mido.MidiTrack.mro\n",
    "print(m.tracks[0])"
   ]
  },
  {
   "cell_type": "code",
   "execution_count": 7,
   "metadata": {},
   "outputs": [],
   "source": [
    "music = PrettyMIDI(midi_file=filename)\n",
    "bla = music.synthesize(fs=22050)\n",
    "#sd.play(bla, 22050)"
   ]
  },
  {
   "cell_type": "code",
   "execution_count": 10,
   "metadata": {},
   "outputs": [
    {
     "name": "stdout",
     "output_type": "stream",
     "text": [
      "[0.10166189 0.0689509  0.03423324 ... 0.21903337 0.23873299 0.25543585]\n"
     ]
    }
   ],
   "source": [
    "print(bla[40000:50000])"
   ]
  },
  {
   "cell_type": "code",
   "execution_count": 103,
   "metadata": {},
   "outputs": [
    {
     "name": "stdout",
     "output_type": "stream",
     "text": [
      "       time  note  velocity  channel  time_release  time_duration  \\\n",
      "0        10    62        59        0           439            429   \n",
      "1        10    66        73        0           439            429   \n",
      "2        10    47        67        0           439            429   \n",
      "3      1054    66        55        0          1251            197   \n",
      "4      1054    69        69        0          1251            197   \n",
      "..      ...   ...       ...      ...           ...            ...   \n",
      "539  203283    59        52        0        203480            197   \n",
      "540  203788    64        55        0        204185            397   \n",
      "541  203788    68        65        0        204185            397   \n",
      "542  203788    49        55        0        204185            397   \n",
      "543  203788    59        65        0        204185            397   \n",
      "\n",
      "     velocity_release  \n",
      "0                   0  \n",
      "1                   0  \n",
      "2                   0  \n",
      "3                   0  \n",
      "4                   0  \n",
      "..                ...  \n",
      "539                 0  \n",
      "540                 0  \n",
      "541                 0  \n",
      "542                 0  \n",
      "543                 0  \n",
      "\n",
      "[544 rows x 7 columns]\n"
     ]
    }
   ],
   "source": [
    "\n",
    "def track_to_dataframe(track, event_style=False):\n",
    "    records = []\n",
    "    track_name = \"\"\n",
    "    current_time = 0\n",
    "    # Event style dataframe\n",
    "    if event_style:\n",
    "        for x in track:\n",
    "            new_dict = x.__dict__.copy()\n",
    "            if not x.is_meta():\n",
    "                #Swapping name for coherence\n",
    "                new_dict[\"time_diff\"] = new_dict[\"time\"] \n",
    "                current_time += new_dict[\"time_diff\"]\n",
    "                new_dict[\"time\"] = current_time\n",
    "                new_dict[\"pressed\"] = new_dict[\"type\"] == \"note_on\"\n",
    "                new_dict[\"released\"] = new_dict[\"type\"] == \"note_off\"\n",
    "                records.append(new_dict)\n",
    "    else:\n",
    "        # Streaming style dataframe\n",
    "        pressed_notes = {}\n",
    "        id = 0\n",
    "        for x in track:\n",
    "            new_dict = x.__dict__.copy()\n",
    "            if new_dict[\"type\"] == \"track_name\":\n",
    "                track_name = new_dict[\"name\"]\n",
    "            else:\n",
    "                current_time += new_dict[\"time\"]\n",
    "                new_dict[\"time\"] = current_time\n",
    "                new_dict[\"time_release\"] = None\n",
    "                new_dict[\"time_duration\"] = None\n",
    "                new_dict[\"velocity_release\"] = None\n",
    "                if new_dict[\"type\"] == \"note_off\":\n",
    "                    former_pressed_note = pressed_notes[new_dict[\"note\"]]\n",
    "                    if former_pressed_note is None:\n",
    "                        raise ValueError(\"The given track has a released note that was never pressed in the first place\")\n",
    "                    pressed_record = records[former_pressed_note[\"id\"]]\n",
    "                    pressed_record[\"time_release\"] = current_time\n",
    "                    pressed_record[\"time_duration\"] = current_time - pressed_record[\"time\"]\n",
    "                    pressed_record[\"velocity_release\"] = new_dict[\"velocity\"]\n",
    "                    pressed_notes[new_dict[\"note\"]] = None\n",
    "                elif new_dict[\"type\"] == \"note_on\":\n",
    "                    pressed_notes[new_dict[\"note\"]] = {\"id\": id}\n",
    "                    del new_dict[\"type\"]\n",
    "                    records.append(new_dict)\n",
    "                    id += 1\n",
    "                                        \n",
    "    return pd.DataFrame(records)\n",
    "\n",
    "pd_track = track_to_dataframe(m.tracks[1])\n",
    "print(pd_track)"
   ]
  },
  {
   "cell_type": "code",
   "execution_count": 5,
   "metadata": {},
   "outputs": [
    {
     "data": {
      "application/vnd.jupyter.widget-view+json": {
       "model_id": "af5e6da7b8554e2a8c40f96d5b839a2b",
       "version_major": 2,
       "version_minor": 0
      },
      "image/png": "[encoded data removed]",
      "text/html": [
       "\n",
       "            <div style=\"display: inline-block;\">\n",
       "                <div class=\"jupyter-widgets widget-label\" style=\"text-align: center;\">\n",
       "                    Figure\n",
       "                </div>\n",
       "                <img src='data:image/png;base64,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' width=640.0/>\n",
       "            </div>\n",
       "        "
      ],
      "text/plain": [
       "Canvas(toolbar=Toolbar(toolitems=[('Home', 'Reset original view', 'home', 'home'), ('Back', 'Back to previous …"
      ]
     },
     "metadata": {},
     "output_type": "display_data"
    }
   ],
   "source": [
    "def plot_music(scheduled_style_df: pd.DataFrame, chroma_plot=False, ax=None, cmap=plt.get_cmap(\"gist_rainbow\")):\n",
    "    if ax is None:\n",
    "        _, ax = plt.subplots()\n",
    "    \n",
    "    df_copy = scheduled_style_df[[\"time\", \"note\", \"time_duration\", \"time_release\"]]\n",
    "    if chroma_plot:\n",
    "        df_copy.loc[:, \"note\"] = mu.to_chroma(df_copy[\"note\"])\n",
    "    for i, x in df_copy.iterrows():\n",
    "        rect = patches.Rectangle((x.time, x.note - 0.5), width=x.time_duration, height=1, linewidth=0.2, edgecolor=(0,0,0), facecolor=cmap(x.note))\n",
    "        ax.add_patch(rect)\n",
    "    plt.xlim(0, df_copy.time_release.max())\n",
    "    plt.ylim(df_copy.note.min() - 3, df_copy.note.max() + 3)\n",
    "\n",
    "plot_music(pd_track, chroma_plot=False)"
   ]
  },
  {
   "cell_type": "code",
   "execution_count": 7,
   "metadata": {},
   "outputs": [
    {
     "name": "stdout",
     "output_type": "stream",
     "text": [
      "101 general scales will be examined\n",
      "Music note count: 544\n",
      "Window size: 54\n",
      "{Lydian Scale in G: 1.0, Phrygian Scale in F#/Gb: 1.0, Locrian Scale in C#/Db: 1.0, Major Scale in D: 1.0}\n"
     ]
    }
   ],
   "source": [
    "midi_ids = pd_track.note.to_numpy()\n",
    "\n",
    "# Transposition:\n",
    "transposition = 0\n",
    "midi_ids += (transposition%12)\n",
    "\n",
    "# general_scale_subset = scales.create_general_scale_subset()\n",
    "general_scale_subset = scales.create_general_scale_subset(note_counts=[5,7])\n",
    "\n",
    "print(len(general_scale_subset), \"general scales will be examined\")\n",
    "music_note_count = len(midi_ids)\n",
    "print(\"Music note count:\", music_note_count)\n",
    "window_size = max(int(music_note_count * 0.1), 14)\n",
    "print(\"Window size:\", window_size)\n",
    "\n",
    "print(scales.windowed_suggest_scales(midi_ids, threshold=0.9, window_size=window_size, window_threshold=0.9, general_scale_subset=general_scale_subset))"
   ]
  }
 ],
 "metadata": {
  "interpreter": {
   "hash": "a745e65f00ba40f4710b3eb53765bd6a652c39d81dd3857a25c705af3598b4bd"
  },
  "kernelspec": {
   "display_name": "Python 3",
   "language": "python",
   "name": "python3"
  },
  "language_info": {
   "codemirror_mode": {
    "name": "ipython",
    "version": 3
   },
   "file_extension": ".py",
   "mimetype": "text/x-python",
   "name": "python",
   "nbconvert_exporter": "python",
   "pygments_lexer": "ipython3",
   "version": "3.7.10"
  },
  "toc": {
   "base_numbering": 1,
   "nav_menu": {},
   "number_sections": true,
   "sideBar": true,
   "skip_h1_title": false,
   "title_cell": "Table of Contents",
   "title_sidebar": "Contents",
   "toc_cell": false,
   "toc_position": {},
   "toc_section_display": true,
   "toc_window_display": false
  }
 },
 "nbformat": 4,
 "nbformat_minor": 2
}
