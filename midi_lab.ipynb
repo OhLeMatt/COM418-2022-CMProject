{
 "cells": [
  {
   "cell_type": "code",
   "execution_count": 2,
   "metadata": {},
   "outputs": [
    {
     "name": "stdout",
     "output_type": "stream",
     "text": [
      "The autoreload extension is already loaded. To reload it, use:\n",
      "  %reload_ext autoreload\n"
     ]
    }
   ],
   "source": [
    "%matplotlib ipympl\n",
    "%load_ext autoreload\n",
    "%autoreload 2\n",
    "import mido\n",
    "import matplotlib.pyplot as plt\n",
    "import matplotlib.patches as patches\n",
    "import pandas as pd\n",
    "import numpy as np\n",
    "import midi_utils as mu\n",
    "#import scales\n",
    "from pretty_midi import PrettyMIDI\n",
    "import sounddevice as sd"
   ]
  },
  {
   "cell_type": "code",
   "execution_count": 10,
   "metadata": {},
   "outputs": [
    {
     "name": "stdout",
     "output_type": "stream",
     "text": [
      "=== Track 0\n",
      "MetaMessage('time_signature', numerator=4, denominator=4, clocks_per_click=24, notated_32nd_notes_per_beat=8, time=0)\n",
      "MetaMessage('set_tempo', tempo=315789, time=0)\n",
      "MetaMessage('key_signature', key='C', time=0)\n",
      "MetaMessage('end_of_track', time=0)\n",
      "=== Track 1\n",
      "MetaMessage('track_name', name='harmony:Piano Full Voicing', time=0)\n",
      "Message('note_on', channel=0, note=48, velocity=71, time=0)\n",
      "Message('note_on', channel=0, note=55, velocity=71, time=0)\n",
      "Message('note_on', channel=0, note=60, velocity=71, time=0)\n",
      "Message('note_on', channel=0, note=64, velocity=71, time=0)\n",
      "Message('note_off', channel=0, note=48, velocity=90, time=4094)\n",
      "Message('note_off', channel=0, note=55, velocity=90, time=0)\n",
      "Message('note_off', channel=0, note=60, velocity=90, time=0)\n",
      "Message('note_off', channel=0, note=64, velocity=90, time=0)\n",
      "Message('note_on', channel=0, note=43, velocity=71, time=2)\n",
      "Message('note_on', channel=0, note=50, velocity=71, time=0)\n",
      "Message('note_on', channel=0, note=59, velocity=71, time=0)\n",
      "Message('note_on', channel=0, note=67, velocity=71, time=0)\n",
      "Message('note_off', channel=0, note=43, velocity=90, time=4094)\n",
      "Message('note_off', channel=0, note=50, velocity=90, time=0)\n",
      "Message('note_off', channel=0, note=59, velocity=90, time=0)\n",
      "Message('note_off', channel=0, note=67, velocity=90, time=0)\n",
      "Message('note_on', channel=0, note=45, velocity=71, time=2)\n",
      "Message('note_on', channel=0, note=52, velocity=71, time=0)\n",
      "Message('note_on', channel=0, note=60, velocity=71, time=0)\n",
      "Message('note_on', channel=0, note=64, velocity=71, time=0)\n",
      "Message('note_off', channel=0, note=45, velocity=90, time=4094)\n",
      "Message('note_off', channel=0, note=52, velocity=90, time=0)\n",
      "Message('note_off', channel=0, note=60, velocity=90, time=0)\n",
      "Message('note_off', channel=0, note=64, velocity=90, time=0)\n",
      "Message('note_on', channel=0, note=41, velocity=71, time=2)\n",
      "Message('note_on', channel=0, note=57, velocity=71, time=0)\n",
      "Message('note_on', channel=0, note=60, velocity=71, time=0)\n",
      "Message('note_on', channel=0, note=65, velocity=71, time=0)\n",
      "Message('note_off', channel=0, note=41, velocity=90, time=4094)\n",
      "Message('note_off', channel=0, note=57, velocity=90, time=0)\n",
      "Message('note_off', channel=0, note=60, velocity=90, time=0)\n",
      "Message('note_off', channel=0, note=65, velocity=90, time=0)\n",
      "MetaMessage('end_of_track', time=0)\n",
      "None\n"
     ]
    }
   ],
   "source": [
    "filename = \"MIDI_Files/KCP_Major_1.mid\"\n",
    "m = mido.MidiFile(filename=filename)\n",
    "print(m.print_tracks())"
   ]
  },
  {
   "cell_type": "code",
   "execution_count": 4,
   "metadata": {},
   "outputs": [
    {
     "name": "stdout",
     "output_type": "stream",
     "text": [
      "<pretty_midi.pretty_midi.PrettyMIDI object at 0x7febe19b0b10>\n"
     ]
    }
   ],
   "source": [
    "music = PrettyMIDI(midi_file=filename)\n",
    "print(music)"
   ]
  },
  {
   "cell_type": "code",
   "execution_count": 5,
   "metadata": {},
   "outputs": [],
   "source": [
    "bla = music.synthesize(fs=22050)\n",
    "sd.play(bla, 22050)"
   ]
  },
  {
   "cell_type": "code",
   "execution_count": 6,
   "metadata": {},
   "outputs": [],
   "source": [
    "sd.stop()"
   ]
  },
  {
   "cell_type": "code",
   "execution_count": 11,
   "metadata": {},
   "outputs": [],
   "source": [
    "\n",
    "def track_to_dataframe(track, event_style=False):\n",
    "    records = []\n",
    "    track_name = \"\"\n",
    "    current_time = 0\n",
    "    # Event style dataframe\n",
    "    if event_style:\n",
    "        for x in track:\n",
    "            new_dict = x.__dict__.copy()\n",
    "            if not x.is_meta():\n",
    "                #Swapping name for coherence\n",
    "                new_dict[\"time_diff\"] = new_dict[\"time\"] \n",
    "                current_time += new_dict[\"time_diff\"]\n",
    "                new_dict[\"time\"] = current_time\n",
    "                new_dict[\"pressed\"] = new_dict[\"type\"] == \"note_on\"\n",
    "                new_dict[\"released\"] = new_dict[\"type\"] == \"note_off\"\n",
    "                records.append(new_dict)\n",
    "    else:\n",
    "        # Streaming style dataframe\n",
    "        pressed_notes = {}\n",
    "        id = 0\n",
    "        for x in track:\n",
    "            new_dict = x.__dict__.copy()\n",
    "            if new_dict[\"type\"] == \"track_name\":\n",
    "                track_name = new_dict[\"name\"]\n",
    "            else:\n",
    "                current_time += new_dict[\"time\"]\n",
    "                new_dict[\"time\"] = current_time\n",
    "                new_dict[\"time_release\"] = None\n",
    "                new_dict[\"time_duration\"] = None\n",
    "                new_dict[\"velocity_release\"] = None\n",
    "                if new_dict[\"type\"] == \"note_off\":\n",
    "                    former_pressed_note = pressed_notes[new_dict[\"note\"]]\n",
    "                    if former_pressed_note is None:\n",
    "                        raise ValueError(\"The given track has a released note that was never pressed in the first place\")\n",
    "                    pressed_record = records[former_pressed_note[\"id\"]]\n",
    "                    pressed_record[\"time_release\"] = current_time\n",
    "                    pressed_record[\"time_duration\"] = current_time - pressed_record[\"time\"]\n",
    "                    pressed_record[\"velocity_release\"] = new_dict[\"velocity\"]\n",
    "                    pressed_notes[new_dict[\"note\"]] = None\n",
    "                elif new_dict[\"type\"] == \"note_on\":\n",
    "                    pressed_notes[new_dict[\"note\"]] = {\"id\": id}\n",
    "                    del new_dict[\"type\"]\n",
    "                    records.append(new_dict)\n",
    "                    id += 1\n",
    "                                        \n",
    "    return pd.DataFrame(records)"
   ]
  },
  {
   "cell_type": "code",
   "execution_count": 12,
   "metadata": {},
   "outputs": [],
   "source": [
    "def plot_music(scheduled_style_df: pd.DataFrame, chroma_plot=False, ax=None, cmap=plt.get_cmap(\"gist_rainbow\")):\n",
    "    if ax is None:\n",
    "        _, ax = plt.subplots()\n",
    "    \n",
    "    df_copy = scheduled_style_df[[\"time\", \"note\", \"time_duration\", \"time_release\"]]\n",
    "    if chroma_plot:\n",
    "        df_copy.loc[:, \"note\"] = mu.to_chroma(df_copy[\"note\"])\n",
    "    for i, x in df_copy.iterrows():\n",
    "        rect = patches.Rectangle((x.time, x.note - 0.5), width=x.time_duration, height=1, linewidth=0.2, edgecolor=(0,0,0), facecolor=cmap(x.note))\n",
    "        ax.add_patch(rect)\n",
    "    plt.xlim(0, df_copy.time_release.max())\n",
    "    plt.ylim(df_copy.note.min() - 3, df_copy.note.max() + 3)"
   ]
  },
  {
   "cell_type": "code",
   "execution_count": 14,
   "metadata": {},
   "outputs": [
    {
     "name": "stdout",
     "output_type": "stream",
     "text": [
      "     time  note  velocity  channel  time_release  time_duration  \\\n",
      "0       0    48        71        0          4094           4094   \n",
      "1       0    55        71        0          4094           4094   \n",
      "2       0    60        71        0          4094           4094   \n",
      "3       0    64        71        0          4094           4094   \n",
      "4    4096    43        71        0          8190           4094   \n",
      "5    4096    50        71        0          8190           4094   \n",
      "6    4096    59        71        0          8190           4094   \n",
      "7    4096    67        71        0          8190           4094   \n",
      "8    8192    45        71        0         12286           4094   \n",
      "9    8192    52        71        0         12286           4094   \n",
      "10   8192    60        71        0         12286           4094   \n",
      "11   8192    64        71        0         12286           4094   \n",
      "12  12288    41        71        0         16382           4094   \n",
      "13  12288    57        71        0         16382           4094   \n",
      "14  12288    60        71        0         16382           4094   \n",
      "15  12288    65        71        0         16382           4094   \n",
      "\n",
      "    velocity_release  \n",
      "0                 90  \n",
      "1                 90  \n",
      "2                 90  \n",
      "3                 90  \n",
      "4                 90  \n",
      "5                 90  \n",
      "6                 90  \n",
      "7                 90  \n",
      "8                 90  \n",
      "9                 90  \n",
      "10                90  \n",
      "11                90  \n",
      "12                90  \n",
      "13                90  \n",
      "14                90  \n",
      "15                90  \n"
     ]
    }
   ],
   "source": [
    "pd_track = track_to_dataframe(m.tracks[1])\n",
    "print(pd_track)"
   ]
  },
  {
   "cell_type": "code",
   "execution_count": 15,
   "metadata": {},
   "outputs": [
    {
     "name": "stderr",
     "output_type": "stream",
     "text": [
      "/Users/manon/anaconda3/lib/python3.7/site-packages/pandas/core/indexing.py:1843: SettingWithCopyWarning: \n",
      "A value is trying to be set on a copy of a slice from a DataFrame.\n",
      "Try using .loc[row_indexer,col_indexer] = value instead\n",
      "\n",
      "See the caveats in the documentation: https://pandas.pydata.org/pandas-docs/stable/user_guide/indexing.html#returning-a-view-versus-a-copy\n",
      "  self.obj[item_labels[indexer[info_axis]]] = value\n"
     ]
    },
    {
     "data": {
      "application/vnd.jupyter.widget-view+json": {
       "model_id": "0d59eeb382f0430d8c02466d499efc8b",
       "version_major": 2,
       "version_minor": 0
      },
      "image/png": "[encoded data removed]",
      "text/html": [
       "\n",
       "            <div style=\"display: inline-block;\">\n",
       "                <div class=\"jupyter-widgets widget-label\" style=\"text-align: center;\">\n",
       "                    Figure\n",
       "                </div>\n",
       "                <img src='data:image/png;base64,iVBORw0KGgoAAAANSUhEUgAAAoAAAAHgCAYAAAA10dzkAAAAOXRFWHRTb2Z0d2FyZQBNYXRwbG90bGliIHZlcnNpb24zLjUuMSwgaHR0cHM6Ly9tYXRwbG90bGliLm9yZy/YYfK9AAAACXBIWXMAAA9hAAAPYQGoP6dpAAAoTElEQVR4nO3df3BU9b3/8ddmQzYByUKCJESSsBIqFSjyu4i0MGSKXIYf9V61DFJKO7Z6QxHpIGZa/DHWBq1jsV4u/pircKcq6gxgr1ooRRBUfiagUgQTiSFiA1bLbkBNYvbz/aNlv64GBM3uMft+PmZ2xpzz2fB6s2H35dlzNj7nnBMAAADMSPM6AAAAAJKLAggAAGAMBRAAAMAYCiAAAIAxFEAAAABjKIAAAADGUAABAACMoQACAAAYQwEEAAAwhgIIAABgDAUQAADAGAogAACAMRRAAAAAYyiAAAAAxlAAAQAAjKEAAgAAGEMBBAAAMIYCCAAAYAwFEAAAwBgKIAAAgDEUQAAAAGMogAAAAMZQAAEAAIyhAAIAABhDAQQAADCGAggAAGAMBRAAAMAYCiAAAIAxFEAAAABjKIAAAADGUAABAACMoQACAAAYQwEEAAAwhgIIAABgDAUQAADAGAogAACAMRRAAAAAYyiAAAAAxlAAAQAAjKEAAgAAGEMBBAAAMIYCCAAAYAwFEAAAwBgKIAAAgDEUQAAAAGMogAAAAMZQAAEAAIyhAAIAABhDAQQAADCGAggAAGAMBRAAAMAYCiAAAIAxKVsAt2zZoilTpqigoEA+n09r16497drrrrtOPp9PS5cuTVo+AAAAr6RsATx58qQGDx6sZcuWnXHdmjVrtH37dhUUFCQpGQAAgLfSvQ6QKJMmTdKkSZPOuObIkSP6+c9/rvXr12vy5MlJSgYAAOCtlD0C+EWi0ahmzZqlhQsXasCAAV7HAQAASJqUPQL4Re666y6lp6dr3rx5Z32fpqYmNTU1xb6ORqP64IMPlJubK5/Pl4iYAACgnTnn1NjYqIKCAqWl2TwWZrIAVlZW6r777lNVVdU5FbeKigrdfvvtCUwGAACSpb6+Xr179/Y6hid8zjnndYhE8/l8WrNmjaZPny5JWrp0qRYsWBDX+ltbW5WWlqbCwkK9/fbbbX6fzx4BDIfDKioqUn19vbKzsxM5AgAAaCeRSESFhYU6fvy4gsGg13E8YfII4KxZs1RaWhq3beLEiZo1a5bmzJlz2vsFAgEFAoHPbc/OzqYAAgDQwVg+fStlC+CJEydUU1MT+7q2tlZ79+5VTk6OioqKlJubG7e+U6dOys/P10UXXZTsqAAAAEmVsgVw9+7dGj9+fOzrBQsWSJJmz56tFStWeJQKAADAeylbAMeNG6dzOb3xdOf9AQAApBqb1z4DAAAYRgEEAAAwhgIIAABgDAUQAADAGAogAACAMRRAAAAAYyiAAAAAxlAAAQAAjKEAAgAAGEMBBAAAMIYCCAAAYAwFEAAAwBgKIAAAgDEUQAAAAGMogAAAAMZQAAEAAIyhAAIAABhDAQQAADCGAggAAGAMBRAAAMAYCiAAAIAxFEAAAABjKIAAAADGUAABAACMoQACAAAYQwEEAAAwhgIIAABgDAUQAADAGAogAACAMRRAAAAAYyiAAAAAxlAAAQAAjKEAAgAAGJOyBXDLli2aMmWKCgoK5PP5tHbt2ti+lpYWLVq0SIMGDVKXLl1UUFCgH/7wh3r33Xe9CwwAAJAkKVsAT548qcGDB2vZsmWf2/fhhx+qqqpKixcvVlVVlVavXq2DBw9q6tSpHiQFAABILp9zznkdItF8Pp/WrFmj6dOnn3bNrl27NHLkSNXV1amoqOisvm8kElEwGFQ4HFZ2dnY7pQUAAInE67eU7nWAr4twOCyfz6du3bqddk1TU5OamppiX0cikSQkAwAAaF8p+xbwufj444+1aNEizZgx44z/J1BRUaFgMBi7FRYWJjElAABA+zBfAFtaWnTVVVfJOafly5efcW15ebnC4XDsVl9fn6SUAAAA7cf0W8Cnyl9dXZ1eeOGFLzwPIBAIKBAIJCkdAABAYpgtgKfKX3V1tTZt2qTc3FyvIwEAACRFyhbAEydOqKamJvZ1bW2t9u7dq5ycHPXq1Uv/8R//oaqqKj377LNqbW1VQ0ODJCknJ0cZGRlexQYAAEi4lP0YmM2bN2v8+PGf2z579mzddtttCoVCbd5v06ZNGjdu3Fn9GVxGDgBAx8PrdwofARw3bpzO1G1TtPcCAAB8IfNXAQMAAFhDAQQAADCGAggAAGBMyp4DCLS31tZW1dbWeh0DSRQKheT3+72OAQDtjgIInKXa2lrVDe2nYo6bm1AXlVRVrZKSEq+jAEC7owAC56A4TSrhgBAAoIPjWAYAAIAxFEAAAABjKIAAAADGUAABAACMoQACAAAYQwEEAAAwhgIIAABgDAUQAADAGAogAACAMRRAAAAAYyiAAAAAxlAAAQAAjKEAAgAAGEMBBAAAMIYCCAAAYAwFEAAAwBgKIAAAgDEUQAAAAGMogAAAAMakex0A6Ejqol4nQLLURaVir0MAQIJQAIGzFAqFpKpqr2MgSYr1r8ccAFIQBRA4S36/XyUlJV7HAADgK+McQAAAAGMogAAAAMZQAAEAAIyhAAIAABiTsgVwy5YtmjJligoKCuTz+bR27dq4/c453XLLLerVq5eysrJUWlqq6mqu8AQAAKkvZQvgyZMnNXjwYC1btqzN/Xfffbd+//vf64EHHtCOHTvUpUsXTZw4UR9//HGSkwIAACRXyn4MzKRJkzRp0qQ29znntHTpUv3qV7/StGnTJEn/+7//q7y8PK1du1Y/+MEPkhkVAAAgqVL2COCZ1NbWqqGhQaWlpbFtwWBQo0aN0rZt2zxMBgAAkHgpewTwTBoaGiRJeXl5cdvz8vJi+9rS1NSkpqam2NeRSCQxAQEAABLI5BHAL6uiokLBYDB2Kyws9DoSAADAOTNZAPPz8yVJR48ejdt+9OjR2L62lJeXKxwOx2719fUJzQkAAJAIJgtgKBRSfn6+Nm7cGNsWiUS0Y8cOjR49+rT3CwQCys7OjrsBAAB0NCl7DuCJEydUU1MT+7q2tlZ79+5VTk6OioqKNH/+fP36179Wv379FAqFtHjxYhUUFGj69OnehQYAAEiClC2Au3fv1vjx42NfL1iwQJI0e/ZsrVixQjfddJNOnjypn/70pzp+/Lguu+wyrVu3TpmZmV5FBgAASAqfc855HaKjikQiCgaDCofDvB0MAEAHweu30XMAAQAALKMAAgAAGEMBBAAAMCZlLwIBgK+itbVVtbW1XsdAkrS2tkqS/H6/x0mQDI2NjV5H8BwFEADaUFtbq7qL+6nY53USJMOOqHSBTzzeRtRHvU7gPQogAJxGsU8qoRCYUOfj8bakkceZcwABAACsoQACAAAYQwEEAAAwhgIIAABgDAUQAADAGAogAACAMRRAAAAAYyiAAAAAxlAAAQAAjKEAAgAAGEMBBAAAMIYCCAAAYAwFEAAAwBgKIAAAgDEUQAAAAGMogAAAAMZQAAEAAIyhAAIAABhDAQQAADAm3esAAPB1Vee8ToBkOcJjbUo9jzcFEADaEgqFpP3VXsdAkoxqbf3nf/j93gZBUhQ2NkpDh3odw1MUQABog9/vV0lJidcxACRAJBLxOoLnOAcQAADAGAogAACAMRRAAAAAYyiAAAAAxlAAAQAAjDFbAFtbW7V48WKFQiFlZWWpb9++uuOOO+QcHw4EAABSm9mPgbnrrru0fPlyrVy5UgMGDNDu3bs1Z84cBYNBzZs3z+t4AAAACWO2AL7yyiuaNm2aJk+eLEnq06ePnnjiCe3cudPjZAAAAIll9i3gSy+9VBs3btSbb74pSXr11Vf10ksvadKkSae9T1NTkyKRSNwNAACgozF7BPDmm29WJBJR//795ff71draqjvvvFMzZ8487X0qKip0++23JzElAABA+zN7BPCpp57SY489pscff1xVVVVauXKl7rnnHq1cufK09ykvL1c4HI7d6uvrk5gYAACgffic0cteCwsLdfPNN6usrCy27de//rX+8Ic/6MCBA2f1PSKRiILBoMLhsLKzsxMVFQAAtCNevw0fAfzwww+VlhY/vt/vVzQa9SgRAABAcpg9B3DKlCm68847VVRUpAEDBmjPnj2699579eMf/9jraAAAAAll9i3gxsZGLV68WGvWrNGxY8dUUFCgGTNm6JZbblFGRsZZfQ8OIQMA0PHw+m24ALYHfoAAAOh4eP02fA4gAACAVRRAAAAAYyiAAAAAxpi9Crg9vfXWW+ratavXMZBgzc3Neuedd+T3+72OgiQZO3bsWV8UBgAdCQWwPQwdJsnndQok2HOKaqjSVOx1ECRFnaStf/mzJkyY4HUUAGh3FMB20Fc+ZVMAU16epGJJJTzWRjjVeR0BABKEcwABAACMoQACAAAYQwEEAAAwhgIIAABgDAUQAADAGAogAACAMRRAAAAAYyiAAAAAxlAAAQAAjKEAAgAAGEMBBAAAMIYCCAAAYAwFEAAAwBgKIAAAgDEUQAAAAGMogAAAAMZQAAEAAIyhAAIAABhDAQQAADAm3esAqeAtOXX1OgQS7qikOkmS8zYIkqLO6wAAkEAUwPZQVSl1pQKmusnNzXrnnXdU5/d7HQVJMnbsWK8jAEBCUADbQd++fZWdne11DCTBxRdf7HUEAAC+Ms4BBAAAMIYCCAAAYAwFEAAAwBgKIAAAgDGmC+CRI0d0zTXXKDc3V1lZWRo0aJB2797tdSwAAICEMnsV8D/+8Q+NGTNG48eP15/+9Cedf/75qq6uVvfu3b2OBgAAkFBmC+Bdd92lwsJCPfroo7FtoVDIw0QAAADJYfYt4D/+8Y8aPny4rrzySvXs2VNDhgzRww8/7HUsAACAhDNbAA8dOqTly5erX79+Wr9+va6//nrNmzdPK1euPO19mpqaFIlE4m4AAAAdjc85Z/IXm2ZkZGj48OF65ZVXYtvmzZunXbt2adu2bW3e57bbbtPtt9/+ue3hcJjfBAIAQAcRiUQUDAZNv36bPQLYq1evz/1ar29+85s6fPjwae9TXl6ucDgcu9XX1yc6JgAAQLszexHImDFjdPDgwbhtb775poqLi097n0AgoEAgkOhoAAAACWX2COCNN96o7du36ze/+Y1qamr0+OOP66GHHlJZWZnX0QAAABLKbAEcMWKE1qxZoyeeeEIDBw7UHXfcoaVLl2rmzJleRwMAAEgosxeBtAdOIgUAoOPh9dvwEUAAAACrKIAAAADGUAABAACMMfsxMAAAnNLc3KytW7d6HQNJcvLkSa8jeI4CCAAwb+vWrVLpVBXzxpgJ+9XqdQTPUQABAJBUrDSVUABNaBQfgMJPOgAAgDEUQAAAAGMogAAAAMZQAAEAAIyhAAIAABhDAQQAADCGAggAAGAMBRAAAMAYCiAAAIAxFEAAAABjKIAAAADGUAABAACMoQACAAAYQwEEAAAwhgIIAABgDAUQAADAGAogAACAMRRAAAAAYyiAAAAAxqR7HSAVvPXWW+ratavXMZAEoVBIfr/f6xhIgubmZm3dutXrGEiSqqoqSVGvYyBJ6nmsKYDtYuh4ST6vUyDB6hSVqitVUlLidRQkwdatW6XSK1TMGyUmNOsTVd19mzR0qNdRkAwnT0rTpnmdwlMUwHbQV2nK5kUCSDnFSlOJOOJrRcbQoZowYYLXMZAEkUjE6wieo7UAAAAYQwEEAAAwhgIIAABgDAUQAADAGAogAACAMRTAf1myZIl8Pp/mz5/vdRQAAICEogBK2rVrlx588EF961vf8joKAABAwpkvgCdOnNDMmTP18MMPq3v37l7HAQAASDjzBbCsrEyTJ09WaWnpF65tampSJBKJuwEAAHQ0pn8TyKpVq1RVVaVdu3ad1fqKigrdfvvtCU4FAACQWGaPANbX1+uGG27QY489pszMzLO6T3l5ucLhcOxWX1+f4JQAAADtz+wRwMrKSh07dkxDP/WLv1tbW7Vlyxb913/9l5qamuT3x/8O0EAgoEAgkOyoAAAA7cpsAZwwYYJef/31uG1z5sxR//79tWjRos+VPwAAgFRhtgB27dpVAwcOjNvWpUsX5ebmfm47AABAKjF7DiAAAIBVZo8AtmXz5s1eRwAAAEg4jgACAAAYQwEEAAAwhgIIAABgDOcAtoO3FFVXOa9jIMHqFFWx1yGQVHWKeh0BScJjDWsogO2hapPUtavXKZBgxZJCoZDXMZAkY8eO1da/rFad10GQNGPHjvU6ApA0Pucch66+pEgkomAwqHA4rOzsbK/jAACAs8DrN+cAAgAAmEMBBAAAMIYCCAAAYAwFEAAAwBgKIAAAgDEUQAAAAGMogAAAAMZQAAEAAIyhAAIAABhDAQQAADCGAggAAGAMBRAAAMAYCiAAAIAxFEAAAABjKIAAAADGUAABAACMoQACAAAYQwEEAAAwhgIIAABgTLrXAYCOorW1VbW1tV7HQBKFQiH5/X6vYwBAu6MAAmeptrZWdf3GqFgUAgvq1CpVv6ySkhKvowBAu6MAAuegWH6VqJPXMQAA+Eo4BxAAAMAYCiAAAIAxFEAAAABjKIAAAADGmC6AFRUVGjFihLp27aqePXtq+vTpOnjwoNexAAAAEsp0AXzxxRdVVlam7du3a8OGDWppadH3vvc9nTx50utoAAAACWP6Y2DWrVsX9/WKFSvUs2dPVVZW6jvf+Y5HqQAAABLLdAH8rHA4LEnKyclpc39TU5OamppiX0cikaTkAgAAaE+m3wL+tGg0qvnz52vMmDEaOHBgm2sqKioUDAZjt8LCwiSnBAAA+OoogP9SVlamffv2adWqVaddU15ernA4HLvV19cnMSEAAED74C1gSXPnztWzzz6rLVu2qHfv3qddFwgEFAgEkpgMAACg/ZkugM45/fznP9eaNWu0efNmhUIhryMBAAAknOkCWFZWpscff1zPPPOMunbtqoaGBklSMBhUVlaWx+kAAAASw/Q5gMuXL1c4HNa4cePUq1ev2O3JJ5/0OhoAAEDCmD4C6JzzOgIAAEDSmT4CCAAAYBEFEAAAwBgKIAAAgDGmzwEEzlWdWr2OgCSpU6uKvQ4BAAlCAQTOUigUkqpf9joGkqRY4rNBAaQsCiBwlvx+v0pKSryOAQDAV8Y5gAAAAMZQAAEAAIyhAAIAABhDAQQAADCGAggAAGAMBRAAAMAYCiAAAIAxFEAAAABjKIAAAADGUAABAACMoQACAAAYQwEEAAAwhgIIAABgDAUQAADAGAogAACAMRRAAAAAYyiAAAAAxlAAAQAAjKEAAgAAGJPudYBUsHnzZnXp0sXrGEiCsWPHKiMjw+sYSILW1lbV1tZ6HQNJ0traKkny+/0eJ0EyNDY2eh3BcxTAdlA4bb66cjA15dWpRVv/8ogmTJjgdRQkQW1trer6TVCxOnkdBUmwQx/qAnXi8TaiXk1eR/AcBbAd9FUnZYv/a7SgzusASKpidVKJOOJrQZ1aeLwNaVTU6wie47AVAACAMRRAAAAAYyiAAAAAxlAAAQAAjDFfAJctW6Y+ffooMzNTo0aN0s6dO72OBAAAkFCmC+CTTz6pBQsW6NZbb1VVVZUGDx6siRMn6tixY15HAwAASBjTBfDee+/Vtddeqzlz5ujiiy/WAw88oM6dO+uRRx7xOhoAAEDCmC2Azc3NqqysVGlpaWxbWlqaSktLtW3bNg+TAQAAJJbZD4L++9//rtbWVuXl5cVtz8vL04EDB9q8T1NTk5qa/v+nh0cikYRmBAAASASzRwC/jIqKCgWDwditsLDQ60gAAADnzGwB7NGjh/x+v44ePRq3/ejRo8rPz2/zPuXl5QqHw7FbfX19MqICAAC0K7MFMCMjQ8OGDdPGjRtj26LRqDZu3KjRo0e3eZ9AIKDs7Oy4GwAAQEdj9hxASVqwYIFmz56t4cOHa+TIkVq6dKlOnjypOXPmeB0NAAAgYUwXwKuvvlrvvfeebrnlFjU0NOiSSy7RunXrPndhCAAAQCoxXQAlae7cuZo7d67XMQAAAJLG7DmAAAAAVlEAAQAAjKEAAgAAGEMBBAAAMMb8RSDt4S21qKtavY6BBKtTi9cRkGQ85nYc4bE2pZ7HmwLYHuqfWaouXbp4HQNJMHbsWK8jIElCoZBUvfGLFyIljGr91//E+/3eBkFSFDY2SkOHeh3DUz7nnPM6REcViUQUDAYVDof5rSAAAHQQvH5zDiAAAIA5FEAAAABjKIAAAADGUAABAACMoQACAAAYQwEEAAAwhgIIAABgDAUQAADAGAogAACAMRRAAAAAYyiAAAAAxlAAAQAAjKEAAgAAGEMBBAAAMIYCCAAAYAwFEAAAwBgKIAAAgDEUQAAAAGMogAAAAMZQAAEAAIyhAAIAABhDAQQAADCGAggAAGAMBRAAAMAYCiAAAIAxFEAAAABjTBbAt99+Wz/5yU8UCoWUlZWlvn376tZbb1Vzc7PX0QAAABIu3esAXjhw4ICi0agefPBBlZSUaN++fbr22mt18uRJ3XPPPV7HAwAASCifc855HeLr4Le//a2WL1+uQ4cOnfV9IpGIgsGgwuGwsrOzE5gOAAC0F16/jR4BbEs4HFZOTs4Z1zQ1NampqSn2dSQSSXQsAACAdmfyHMDPqqmp0f3336+f/exnZ1xXUVGhYDAYuxUWFiYpIQAAQPtJqQJ48803y+fznfF24MCBuPscOXJEl19+ua688kpde+21Z/z+5eXlCofDsVt9fX0ixwEAAEiIlDoH8L333tP7779/xjUXXnihMjIyJEnvvvuuxo0bp29/+9tasWKF0tLOrQ9zDgEAAB0Pr98pdg7g+eefr/PPP/+s1h45ckTjx4/XsGHD9Oijj55z+QMAAOioUqoAnq0jR45o3LhxKi4u1j333KP33nsvti8/P9/DZAAAAIlnsgBu2LBBNTU1qqmpUe/eveP2pdA74gAAAG0y+b7nj370Iznn2rwBAACkOpMFEAAAwDIKIAAAgDEUQAAAAGMogAAAAMZQAAEAAIyhAAIAABhDAQQAADCGAggAAGAMBRAAAMAYCiAAAIAxFEAAAABjKIAAAADGUAABAACMoQACAAAYk+51gI7MOSdJikQiHicBAABn69Tr9qnXcYsogF/B+++/L0kqLCz0OAkAADhXjY2NCgaDXsfwBAXwK8jJyZEkHT582MwPUCQSUWFhoerr65Wdne11nISzNq9kb2Zr80r2ZrY2r2Rv5nOd1zmnxsZGFRQUJCHd1xMF8CtIS/vnKZTBYNDEP7BPy87ONjWztXklezNbm1eyN7O1eSV7M5/LvFYO3JwOF4EAAAAYQwEEAAAwhgL4FQQCAd16660KBAJeR0kaazNbm1eyN7O1eSV7M1ubV7I3s7V524PPWb4GGgAAwCCOAAIAABhDAQQAADCGAggAAGAMBRAAAMAYCuCXtGzZMvXp00eZmZkaNWqUdu7c6XWks1JRUaERI0aoa9eu6tmzp6ZPn66DBw/Grfn4449VVlam3NxcnXfeefr3f/93HT16NG7N4cOHNXnyZHXu3Fk9e/bUwoUL9cknn8St2bx5s4YOHapAIKCSkhKtWLEi0eN9oSVLlsjn82n+/Pmxbak475EjR3TNNdcoNzdXWVlZGjRokHbv3h3b75zTLbfcol69eikrK0ulpaWqrq6O+x4ffPCBZs6cqezsbHXr1k0/+clPdOLEibg1r732msaOHavMzEwVFhbq7rvvTsp8n9Xa2qrFixcrFAopKytLffv21R133BH3ez478sxbtmzRlClTVFBQIJ/Pp7Vr18btT+ZsTz/9tPr376/MzEwNGjRIzz//fLvPK5155paWFi1atEiDBg1Sly5dVFBQoB/+8Id69913U3bmz7ruuuvk8/m0dOnSuO0daeazmfeNN97Q1KlTFQwG1aVLF40YMUKHDx+O7U/F5++kcThnq1atchkZGe6RRx5xf/3rX921117runXr5o4ePep1tC80ceJE9+ijj7p9+/a5vXv3un/7t39zRUVF7sSJE7E11113nSssLHQbN250u3fvdt/+9rfdpZdeGtv/ySefuIEDB7rS0lK3Z88e9/zzz7sePXq48vLy2JpDhw65zp07uwULFrj9+/e7+++/3/n9frdu3bqkzvtpO3fudH369HHf+ta33A033BDbnmrzfvDBB664uNj96Ec/cjt27HCHDh1y69evdzU1NbE1S5YsccFg0K1du9a9+uqrburUqS4UCrmPPvootubyyy93gwcPdtu3b3dbt251JSUlbsaMGbH94XDY5eXluZkzZ7p9+/a5J554wmVlZbkHH3wwqfM659ydd97pcnNz3bPPPutqa2vd008/7c477zx33333xdZ05Jmff/5598tf/tKtXr3aSXJr1qyJ25+s2V5++WXn9/vd3Xff7fbv3+9+9atfuU6dOrnXX389qTMfP37clZaWuieffNIdOHDAbdu2zY0cOdINGzYs7nuk0syftnr1ajd48GBXUFDgfve733XYmb9o3pqaGpeTk+MWLlzoqqqqXE1NjXvmmWfiXmtT7fk7mSiAX8LIkSNdWVlZ7OvW1lZXUFDgKioqPEz15Rw7dsxJci+++KJz7p9PrJ06dXJPP/10bM0bb7zhJLlt27Y55/75jzYtLc01NDTE1ixfvtxlZ2e7pqYm55xzN910kxswYEDcn3X11Ve7iRMnJnqkNjU2Nrp+/fq5DRs2uO9+97uxApiK8y5atMhddtllp90fjUZdfn6+++1vfxvbdvz4cRcIBNwTTzzhnHNu//79TpLbtWtXbM2f/vQn5/P53JEjR5xzzv33f/+36969e+zv4NSffdFFF7X3SF9o8uTJ7sc//nHctiuuuMLNnDnTOZdaM3/2hTKZs1111VVu8uTJcXlGjRrlfvazn7XrjJ91pjJ0ys6dO50kV1dX55xL3Znfeecdd8EFF7h9+/a54uLiuALYkWdua96rr77aXXPNNae9Tyo+fycTbwGfo+bmZlVWVqq0tDS2LS0tTaWlpdq2bZuHyb6ccDgsScrJyZEkVVZWqqWlJW6+/v37q6ioKDbftm3bNGjQIOXl5cXWTJw4UZFIRH/9619jaz79PU6t8ervqKysTJMnT/5cplSc949//KOGDx+uK6+8Uj179tSQIUP08MMPx/bX1taqoaEhLm8wGNSoUaPiZu7WrZuGDx8eW1NaWqq0tDTt2LEjtuY73/mOMjIyYmsmTpyogwcP6h//+Eeix4xz6aWXauPGjXrzzTclSa+++qpeeuklTZo0SVJqznxKMmf7Ov2cf1Y4HJbP51O3bt0kpebM0WhUs2bN0sKFCzVgwIDP7U+lmaPRqJ577jl94xvf0MSJE9WzZ0+NGjUq7m3iVHz+TiYK4Dn6+9//rtbW1rgfJknKy8tTQ0ODR6m+nGg0qvnz52vMmDEaOHCgJKmhoUEZGRmxJ9FTPj1fQ0NDm/Of2nemNZFIRB999FEixjmtVatWqaqqShUVFZ/bl4rzHjp0SMuXL1e/fv20fv16XX/99Zo3b55WrlwZl/lMP8MNDQ3q2bNn3P709HTl5OSc099Lstx88836wQ9+oP79+6tTp04aMmSI5s+fr5kzZ8blSaWZT0nmbKdb4/Vz38cff6xFixZpxowZys7OlpSaM991111KT0/XvHnz2tyfSjMfO3ZMJ06c0JIlS3T55Zfrz3/+s77//e/riiuu0IsvvhjLmWrP38mU7nUAeKesrEz79u3TSy+95HWUhKmvr9cNN9ygDRs2KDMz0+s4SRGNRjV8+HD95je/kSQNGTJE+/bt0wMPPKDZs2d7nC4xnnrqKT322GN6/PHHNWDAAO3du1fz589XQUFBys6Mf2ppadFVV10l55yWL1/udZyEqays1H333aeqqir5fD6v4yRcNBqVJE2bNk033nijJOmSSy7RK6+8ogceeEDf/e53vYyXEjgCeI569Oghv9//uauMjh49qvz8fI9Snbu5c+fq2Wef1aZNm9S7d+/Y9vz8fDU3N+v48eNx6z89X35+fpvzn9p3pjXZ2dnKyspq73FOq7KyUseOHdPQoUOVnp6u9PR0vfjii/r973+v9PR05eXlpdS8ktSrVy9dfPHFcdu++c1vxq6cO5X5TD/D+fn5OnbsWNz+Tz75RB988ME5/b0ky8KFC2NHAQcNGqRZs2bpxhtvjB31TcWZT0nmbKdb49Xsp8pfXV2dNmzYEDv6J6XezFu3btWxY8dUVFQUey6rq6vTL37xC/Xp0yeWNVVm7tGjh9LT07/wuSzVnr+TiQJ4jjIyMjRs2DBt3Lgxti0ajWrjxo0aPXq0h8nOjnNOc+fO1Zo1a/TCCy8oFArF7R82bJg6deoUN9/Bgwd1+PDh2HyjR4/W66+/HvdEc+rJ99Q/1tGjR8d9j1Nrkv13NGHCBL3++uvau3dv7DZ8+HDNnDkz9t+pNK8kjRkz5nMf7fPmm2+quLhYkhQKhZSfnx+XNxKJaMeOHXEzHz9+XJWVlbE1L7zwgqLRqEaNGhVbs2XLFrW0tMTWbNiwQRdddJG6d++esPna8uGHHyotLf7pzO/3x44ipOLMpyRztq/Tz/mp8lddXa2//OUvys3NjdufajPPmjVLr732WtxzWUFBgRYuXKj169fHsqbKzBkZGRoxYsQZn8tS7fUq6by+CqUjWrVqlQsEAm7FihVu//797qc//anr1q1b3FVGX1fXX3+9CwaDbvPmze5vf/tb7Pbhhx/G1lx33XWuqKjIvfDCC2737t1u9OjRbvTo0bH9py6r/973vuf27t3r1q1b584///w2L6tfuHChe+ONN9yyZcu+NpfVf/oqYOdSb96dO3e69PR0d+edd7rq6mr32GOPuc6dO7s//OEPsTVLlixx3bp1c88884x77bXX3LRp09r82JAhQ4a4HTt2uJdeesn169cv7uMkjh8/7vLy8tysWbPcvn373KpVq1znzp09+RiY2bNnuwsuuCD2MTCrV692PXr0cDfddFNsTUeeubGx0e3Zs8ft2bPHSXL33nuv27NnT+yK12TN9vLLL7v09HR3zz33uDfeeMPdeuutCftIlDPN3Nzc7KZOnep69+7t9u7dG/dc9umrW1Np5rZ89irgjjbzF827evVq16lTJ/fQQw+56urq2MezbN26NfY9Uu35O5kogF/S/fff74qKilxGRoYbOXKk2759u9eRzoqkNm+PPvpobM1HH33k/vM//9N1797dde7c2X3/+993f/vb3+K+z9tvv+0mTZrksrKyXI8ePdwvfvEL19LSErdm06ZN7pJLLnEZGRnuwgsvjPszvPTZApiK8/7f//2fGzhwoAsEAq5///7uoYceitsfjUbd4sWLXV5engsEAm7ChAnu4MGDcWvef/99N2PGDHfeeee57OxsN2fOHNfY2Bi35tVXX3WXXXaZCwQC7oILLnBLlixJ+GxtiUQi7oYbbnBFRUUuMzPTXXjhhe6Xv/xlXBnoyDNv2rSpzX+3s2fPTvpsTz31lPvGN77hMjIy3IABA9xzzz2X9Jlra2tP+1y2adOmlJy5LW0VwI4089nM+z//8z+upKTEZWZmusGDB7u1a9fGfY9UfP5OFp9zn/qofAAAAKQ8zgEEAAAwhgIIAABgDAUQAADAGAogAACAMRRAAAAAYyiAAAAAxlAAAQAAjKEAAgAAGEMBBAAAMIYCCAAAYAwFEAAAwBgKIAAAgDEUQAAAAGMogAAAAMZQAAEAAIyhAAIAABhDAQQAADCGAggAAGAMBRAAAMAYCiAAAIAxFEAAAABjKIAAAADGUAABAACMoQACAAAYQwEEAAAwhgIIAABgDAUQAADAGAogAACAMRRAAAAAYyiAAAAAxlAAAQAAjPl/nyDDvNfrnA0AAAAASUVORK5CYII=' width=640.0/>\n",
       "            </div>\n",
       "        "
      ],
      "text/plain": [
       "Canvas(toolbar=Toolbar(toolitems=[('Home', 'Reset original view', 'home', 'home'), ('Back', 'Back to previous …"
      ]
     },
     "metadata": {},
     "output_type": "display_data"
    }
   ],
   "source": [
    "plot_music(pd_track, chroma_plot=True)"
   ]
  },
  {
   "cell_type": "code",
   "execution_count": 15,
   "metadata": {},
   "outputs": [
    {
     "name": "stdout",
     "output_type": "stream",
     "text": [
      "[2 3 2 1 4 1 3]\n",
      "7\n",
      "[2 2 2 1 2 2 1]\n"
     ]
    }
   ],
   "source": [
    "midi_ids = pd_track.note.to_numpy()\n",
    "\n",
    "# Transposition:\n",
    "midi_ids += 0\n",
    "\n",
    "\n",
    "tonic_chroma = scales.music_to_tonic_chroma(midi_ids) # THIS FUNCTION IS BAD FOR THE MOMENT\n",
    "print(tonic_chroma)\n",
    "shifts = scales.music_to_chroma_shifts(midi_ids=midi_ids, tonic_chroma=tonic_chroma)\n",
    "print(shifts)\n"
   ]
  },
  {
   "cell_type": "code",
   "execution_count": 44,
   "metadata": {},
   "outputs": [
    {
     "name": "stdout",
     "output_type": "stream",
     "text": [
      "['music_to_chroma_shifts' 'chromatic_shifts' 'ditetrachordic_shifts'\n",
      " 'diatonic_shifts' 'harmonic_major_shifts' 'harmonic_minor_shifts'\n",
      " 'melodic_major_shifts' 'melodic_minor_shifts' 'gipsy_major_shifts'\n",
      " 'neapolitan_minor_shifts' 'altered_shifts' 'diatonic_shifts']\n"
     ]
    }
   ],
   "source": [
    "# scale_selection = [scales.diatonic_scale(c) for c in range(12)] \\\n",
    "#                   + [scales.diatonic_scale(c, scales.Mode.MINOR) for c in range(12)] \\\n",
    "#                   + [scales.harmonic_scale(c, major=True) for c in range(12)] \\\n",
    "#                   + [scales.harmonic_scale(c, major=False) for c in range(12)] \\\n",
    "#                   + [scales.melodic_scale(c, major=True) for c in range(12)] \\\n",
    "#                   + [scales.melodic_scale(c, major=False) for c in range(12)] \\\n",
    "#                   + [scales.altered_scale(c) for c in range(12)] \\\n",
    "#                   + [scales.gipsy_major_scale(c) for c in range(12)] \\\n",
    "#                   + [scales.neapolitan_minor_scale(c) for c in range(12)] \n",
    "\n",
    "# for s in scale_selection:\n",
    "#     score = s.compute_match(midi_ids)\n",
    "#     print(s, \":\", score)"
   ]
  }
 ],
 "metadata": {
  "interpreter": {
   "hash": "a745e65f00ba40f4710b3eb53765bd6a652c39d81dd3857a25c705af3598b4bd"
  },
  "kernelspec": {
   "display_name": "Python 3",
   "language": "python",
   "name": "python3"
  },
  "language_info": {
   "codemirror_mode": {
    "name": "ipython",
    "version": 3
   },
   "file_extension": ".py",
   "mimetype": "text/x-python",
   "name": "python",
   "nbconvert_exporter": "python",
   "pygments_lexer": "ipython3",
   "version": "3.7.10"
  },
  "toc": {
   "base_numbering": 1,
   "nav_menu": {},
   "number_sections": true,
   "sideBar": true,
   "skip_h1_title": false,
   "title_cell": "Table of Contents",
   "title_sidebar": "Contents",
   "toc_cell": false,
   "toc_position": {},
   "toc_section_display": true,
   "toc_window_display": false
  }
 },
 "nbformat": 4,
 "nbformat_minor": 2
}
