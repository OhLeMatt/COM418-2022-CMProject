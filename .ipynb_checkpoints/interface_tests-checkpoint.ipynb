{
 "cells": [
  {
   "cell_type": "code",
   "execution_count": 2,
   "id": "champion-insight",
   "metadata": {},
   "outputs": [],
   "source": [
    "import mido\n",
    "import time\n",
    "import midi_utils as mu\n",
    "import numpy as np\n",
    "outport = None\n",
    "inport = None"
   ]
  },
  {
   "cell_type": "code",
   "execution_count": 3,
   "id": "opposite-longitude",
   "metadata": {},
   "outputs": [
    {
     "name": "stdout",
     "output_type": "stream",
     "text": [
      "Outputs: ['IAC Driver Bus 1', 'IAC Driver pioneer', 'IAC Driver Bus 1', 'IAC Driver pioneer']\n",
      "Inputs: ['IAC Driver Bus 1', 'IAC Driver pioneer', 'IAC Driver Bus 1', 'IAC Driver pioneer']\n",
      "<open output 'IAC Driver pioneer' (RtMidi/MACOSX_CORE)>\n",
      "<open input 'IAC Driver Bus 1' (RtMidi/MACOSX_CORE)>\n"
     ]
    }
   ],
   "source": [
    "outports = mido.get_output_names()\n",
    "inports = mido.get_input_names()\n",
    "print(\"Outputs:\", outports) \n",
    "print(\"Inputs:\", inports) \n",
    "\n",
    "if outport is not None:\n",
    "    outport.close()\n",
    "if inport is not None:\n",
    "    inport.close()\n",
    "# outport = mido.open_output('IAC Driver pioneer')\n",
    "# outport = mido.open_output('Microsoft GS Wavetable Synth 0')\n",
    "outport = mido.open_output(outports[1])\n",
    "inport = mido.open_input(inports[1])\n",
    "print(outport)\n",
    "print(inport)"
   ]
  },
  {
   "cell_type": "code",
   "execution_count": 4,
   "id": "senior-parts",
   "metadata": {},
   "outputs": [],
   "source": [
    "middleC = mu.name_to_midi_id(\"C4\")\n",
    "msg = mido.Message('note_on', note=middleC, velocity=64)\n",
    "outport.send(msg)\n",
    "time.sleep(1)\n",
    "msg = mido.Message('note_off', note=middleC, velocity=64)\n",
    "outport.send(msg)"
   ]
  },
  {
   "cell_type": "code",
   "execution_count": 5,
   "id": "9353696b",
   "metadata": {},
   "outputs": [
    {
     "name": "stdout",
     "output_type": "stream",
     "text": [
      "0013GIVE\n"
     ]
    }
   ],
   "source": [
    "filename = \"MIDI_Files/Never-Gonna-Give-You-Up-3.mid\"\n",
    "midi = mido.MidiFile(filename=filename)\n",
    "for track in midi.tracks:\n",
    "    print(track.name)"
   ]
  },
  {
   "cell_type": "code",
   "execution_count": null,
   "id": "4592b7f4",
   "metadata": {},
   "outputs": [],
   "source": [
    "channel_map = {4: 1, 5: 1, 16: 2, 3: 3}\n",
    "leftovers_channel = max(channel_map.values()) + 1\n",
    "for x in range(1, 17):\n",
    "    if x not in channel_map:\n",
    "        channel_map[x] = leftovers_channel\n",
    "\n",
    "\n",
    "try:\n",
    "    for x in midi.play():\n",
    "        \n",
    "        channel = channel_map.get(x.dict().get(\"channel\", -2) + 1, None)\n",
    "        \n",
    "        if channel is not None:\n",
    "            x.channel = channel - 1\n",
    "            outport.send(x)\n",
    "except BaseException as e:\n",
    "    print(e)\n",
    "    outport.reset()"
   ]
  },
  {
   "cell_type": "code",
   "execution_count": null,
   "id": "c76f32e8",
   "metadata": {},
   "outputs": [],
   "source": []
  },
  {
   "cell_type": "code",
   "execution_count": null,
   "id": "average-rouge",
   "metadata": {},
   "outputs": [],
   "source": []
  }
 ],
 "metadata": {
  "interpreter": {
   "hash": "a745e65f00ba40f4710b3eb53765bd6a652c39d81dd3857a25c705af3598b4bd"
  },
  "kernelspec": {
   "display_name": "Python 3",
   "language": "python",
   "name": "python3"
  },
  "language_info": {
   "codemirror_mode": {
    "name": "ipython",
    "version": 3
   },
   "file_extension": ".py",
   "mimetype": "text/x-python",
   "name": "python",
   "nbconvert_exporter": "python",
   "pygments_lexer": "ipython3",
   "version": "3.7.10"
  },
  "toc": {
   "base_numbering": 1,
   "nav_menu": {},
   "number_sections": true,
   "sideBar": true,
   "skip_h1_title": false,
   "title_cell": "Table of Contents",
   "title_sidebar": "Contents",
   "toc_cell": false,
   "toc_position": {},
   "toc_section_display": true,
   "toc_window_display": false
  }
 },
 "nbformat": 4,
 "nbformat_minor": 5
}
