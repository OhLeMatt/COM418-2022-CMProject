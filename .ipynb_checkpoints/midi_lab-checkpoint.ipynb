{
 "cells": [
  {
   "cell_type": "code",
   "execution_count": 3,
   "metadata": {},
   "outputs": [
    {
     "ename": "ImportError",
     "evalue": "cannot import name '_colormaps' from 'matplotlib.cm' (/Users/manon/anaconda3/lib/python3.7/site-packages/matplotlib/cm.py)",
     "output_type": "error",
     "traceback": [
      "\u001b[0;31m---------------------------------------------------------------------------\u001b[0m",
      "\u001b[0;31mImportError\u001b[0m                               Traceback (most recent call last)",
      "\u001b[0;32m<ipython-input-3-0cd8b29290c8>\u001b[0m in \u001b[0;36m<module>\u001b[0;34m\u001b[0m\n\u001b[0;32m----> 1\u001b[0;31m \u001b[0mget_ipython\u001b[0m\u001b[0;34m(\u001b[0m\u001b[0;34m)\u001b[0m\u001b[0;34m.\u001b[0m\u001b[0mrun_line_magic\u001b[0m\u001b[0;34m(\u001b[0m\u001b[0;34m'matplotlib'\u001b[0m\u001b[0;34m,\u001b[0m \u001b[0;34m'ipympl'\u001b[0m\u001b[0;34m)\u001b[0m\u001b[0;34m\u001b[0m\u001b[0;34m\u001b[0m\u001b[0m\n\u001b[0m\u001b[1;32m      2\u001b[0m \u001b[0;32mimport\u001b[0m \u001b[0mmido\u001b[0m\u001b[0;34m\u001b[0m\u001b[0;34m\u001b[0m\u001b[0m\n\u001b[1;32m      3\u001b[0m \u001b[0;32mimport\u001b[0m \u001b[0mmatplotlib\u001b[0m\u001b[0;34m.\u001b[0m\u001b[0mpyplot\u001b[0m \u001b[0;32mas\u001b[0m \u001b[0mplt\u001b[0m\u001b[0;34m\u001b[0m\u001b[0;34m\u001b[0m\u001b[0m\n\u001b[1;32m      4\u001b[0m \u001b[0;32mimport\u001b[0m \u001b[0mmatplotlib\u001b[0m\u001b[0;34m.\u001b[0m\u001b[0mpatches\u001b[0m \u001b[0;32mas\u001b[0m \u001b[0mpatches\u001b[0m\u001b[0;34m\u001b[0m\u001b[0;34m\u001b[0m\u001b[0m\n\u001b[1;32m      5\u001b[0m \u001b[0;32mimport\u001b[0m \u001b[0mpandas\u001b[0m \u001b[0;32mas\u001b[0m \u001b[0mpd\u001b[0m\u001b[0;34m\u001b[0m\u001b[0;34m\u001b[0m\u001b[0m\n",
      "\u001b[0;32m~/anaconda3/lib/python3.7/site-packages/IPython/core/interactiveshell.py\u001b[0m in \u001b[0;36mrun_line_magic\u001b[0;34m(self, magic_name, line, _stack_depth)\u001b[0m\n\u001b[1;32m   2342\u001b[0m                 \u001b[0mkwargs\u001b[0m\u001b[0;34m[\u001b[0m\u001b[0;34m'local_ns'\u001b[0m\u001b[0;34m]\u001b[0m \u001b[0;34m=\u001b[0m \u001b[0mself\u001b[0m\u001b[0;34m.\u001b[0m\u001b[0mget_local_scope\u001b[0m\u001b[0;34m(\u001b[0m\u001b[0mstack_depth\u001b[0m\u001b[0;34m)\u001b[0m\u001b[0;34m\u001b[0m\u001b[0;34m\u001b[0m\u001b[0m\n\u001b[1;32m   2343\u001b[0m             \u001b[0;32mwith\u001b[0m \u001b[0mself\u001b[0m\u001b[0;34m.\u001b[0m\u001b[0mbuiltin_trap\u001b[0m\u001b[0;34m:\u001b[0m\u001b[0;34m\u001b[0m\u001b[0;34m\u001b[0m\u001b[0m\n\u001b[0;32m-> 2344\u001b[0;31m                 \u001b[0mresult\u001b[0m \u001b[0;34m=\u001b[0m \u001b[0mfn\u001b[0m\u001b[0;34m(\u001b[0m\u001b[0;34m*\u001b[0m\u001b[0margs\u001b[0m\u001b[0;34m,\u001b[0m \u001b[0;34m**\u001b[0m\u001b[0mkwargs\u001b[0m\u001b[0;34m)\u001b[0m\u001b[0;34m\u001b[0m\u001b[0;34m\u001b[0m\u001b[0m\n\u001b[0m\u001b[1;32m   2345\u001b[0m             \u001b[0;32mreturn\u001b[0m \u001b[0mresult\u001b[0m\u001b[0;34m\u001b[0m\u001b[0;34m\u001b[0m\u001b[0m\n\u001b[1;32m   2346\u001b[0m \u001b[0;34m\u001b[0m\u001b[0m\n",
      "\u001b[0;32m<decorator-gen-108>\u001b[0m in \u001b[0;36mmatplotlib\u001b[0;34m(self, line)\u001b[0m\n",
      "\u001b[0;32m~/anaconda3/lib/python3.7/site-packages/IPython/core/magic.py\u001b[0m in \u001b[0;36m<lambda>\u001b[0;34m(f, *a, **k)\u001b[0m\n\u001b[1;32m    185\u001b[0m     \u001b[0;31m# but it's overkill for just that one bit of state.\u001b[0m\u001b[0;34m\u001b[0m\u001b[0;34m\u001b[0m\u001b[0;34m\u001b[0m\u001b[0m\n\u001b[1;32m    186\u001b[0m     \u001b[0;32mdef\u001b[0m \u001b[0mmagic_deco\u001b[0m\u001b[0;34m(\u001b[0m\u001b[0marg\u001b[0m\u001b[0;34m)\u001b[0m\u001b[0;34m:\u001b[0m\u001b[0;34m\u001b[0m\u001b[0;34m\u001b[0m\u001b[0m\n\u001b[0;32m--> 187\u001b[0;31m         \u001b[0mcall\u001b[0m \u001b[0;34m=\u001b[0m \u001b[0;32mlambda\u001b[0m \u001b[0mf\u001b[0m\u001b[0;34m,\u001b[0m \u001b[0;34m*\u001b[0m\u001b[0ma\u001b[0m\u001b[0;34m,\u001b[0m \u001b[0;34m**\u001b[0m\u001b[0mk\u001b[0m\u001b[0;34m:\u001b[0m \u001b[0mf\u001b[0m\u001b[0;34m(\u001b[0m\u001b[0;34m*\u001b[0m\u001b[0ma\u001b[0m\u001b[0;34m,\u001b[0m \u001b[0;34m**\u001b[0m\u001b[0mk\u001b[0m\u001b[0;34m)\u001b[0m\u001b[0;34m\u001b[0m\u001b[0;34m\u001b[0m\u001b[0m\n\u001b[0m\u001b[1;32m    188\u001b[0m \u001b[0;34m\u001b[0m\u001b[0m\n\u001b[1;32m    189\u001b[0m         \u001b[0;32mif\u001b[0m \u001b[0mcallable\u001b[0m\u001b[0;34m(\u001b[0m\u001b[0marg\u001b[0m\u001b[0;34m)\u001b[0m\u001b[0;34m:\u001b[0m\u001b[0;34m\u001b[0m\u001b[0;34m\u001b[0m\u001b[0m\n",
      "\u001b[0;32m~/anaconda3/lib/python3.7/site-packages/IPython/core/magics/pylab.py\u001b[0m in \u001b[0;36mmatplotlib\u001b[0;34m(self, line)\u001b[0m\n\u001b[1;32m     97\u001b[0m             \u001b[0mprint\u001b[0m\u001b[0;34m(\u001b[0m\u001b[0;34m\"Available matplotlib backends: %s\"\u001b[0m \u001b[0;34m%\u001b[0m \u001b[0mbackends_list\u001b[0m\u001b[0;34m)\u001b[0m\u001b[0;34m\u001b[0m\u001b[0;34m\u001b[0m\u001b[0m\n\u001b[1;32m     98\u001b[0m         \u001b[0;32melse\u001b[0m\u001b[0;34m:\u001b[0m\u001b[0;34m\u001b[0m\u001b[0;34m\u001b[0m\u001b[0m\n\u001b[0;32m---> 99\u001b[0;31m             \u001b[0mgui\u001b[0m\u001b[0;34m,\u001b[0m \u001b[0mbackend\u001b[0m \u001b[0;34m=\u001b[0m \u001b[0mself\u001b[0m\u001b[0;34m.\u001b[0m\u001b[0mshell\u001b[0m\u001b[0;34m.\u001b[0m\u001b[0menable_matplotlib\u001b[0m\u001b[0;34m(\u001b[0m\u001b[0margs\u001b[0m\u001b[0;34m.\u001b[0m\u001b[0mgui\u001b[0m\u001b[0;34m.\u001b[0m\u001b[0mlower\u001b[0m\u001b[0;34m(\u001b[0m\u001b[0;34m)\u001b[0m \u001b[0;32mif\u001b[0m \u001b[0misinstance\u001b[0m\u001b[0;34m(\u001b[0m\u001b[0margs\u001b[0m\u001b[0;34m.\u001b[0m\u001b[0mgui\u001b[0m\u001b[0;34m,\u001b[0m \u001b[0mstr\u001b[0m\u001b[0;34m)\u001b[0m \u001b[0;32melse\u001b[0m \u001b[0margs\u001b[0m\u001b[0;34m.\u001b[0m\u001b[0mgui\u001b[0m\u001b[0;34m)\u001b[0m\u001b[0;34m\u001b[0m\u001b[0;34m\u001b[0m\u001b[0m\n\u001b[0m\u001b[1;32m    100\u001b[0m             \u001b[0mself\u001b[0m\u001b[0;34m.\u001b[0m\u001b[0m_show_matplotlib_backend\u001b[0m\u001b[0;34m(\u001b[0m\u001b[0margs\u001b[0m\u001b[0;34m.\u001b[0m\u001b[0mgui\u001b[0m\u001b[0;34m,\u001b[0m \u001b[0mbackend\u001b[0m\u001b[0;34m)\u001b[0m\u001b[0;34m\u001b[0m\u001b[0;34m\u001b[0m\u001b[0m\n\u001b[1;32m    101\u001b[0m \u001b[0;34m\u001b[0m\u001b[0m\n",
      "\u001b[0;32m~/anaconda3/lib/python3.7/site-packages/IPython/core/interactiveshell.py\u001b[0m in \u001b[0;36menable_matplotlib\u001b[0;34m(self, gui)\u001b[0m\n\u001b[1;32m   3523\u001b[0m                 \u001b[0mgui\u001b[0m\u001b[0;34m,\u001b[0m \u001b[0mbackend\u001b[0m \u001b[0;34m=\u001b[0m \u001b[0mpt\u001b[0m\u001b[0;34m.\u001b[0m\u001b[0mfind_gui_and_backend\u001b[0m\u001b[0;34m(\u001b[0m\u001b[0mself\u001b[0m\u001b[0;34m.\u001b[0m\u001b[0mpylab_gui_select\u001b[0m\u001b[0;34m)\u001b[0m\u001b[0;34m\u001b[0m\u001b[0;34m\u001b[0m\u001b[0m\n\u001b[1;32m   3524\u001b[0m \u001b[0;34m\u001b[0m\u001b[0m\n\u001b[0;32m-> 3525\u001b[0;31m         \u001b[0mpt\u001b[0m\u001b[0;34m.\u001b[0m\u001b[0mactivate_matplotlib\u001b[0m\u001b[0;34m(\u001b[0m\u001b[0mbackend\u001b[0m\u001b[0;34m)\u001b[0m\u001b[0;34m\u001b[0m\u001b[0;34m\u001b[0m\u001b[0m\n\u001b[0m\u001b[1;32m   3526\u001b[0m         \u001b[0mpt\u001b[0m\u001b[0;34m.\u001b[0m\u001b[0mconfigure_inline_support\u001b[0m\u001b[0;34m(\u001b[0m\u001b[0mself\u001b[0m\u001b[0;34m,\u001b[0m \u001b[0mbackend\u001b[0m\u001b[0;34m)\u001b[0m\u001b[0;34m\u001b[0m\u001b[0;34m\u001b[0m\u001b[0m\n\u001b[1;32m   3527\u001b[0m \u001b[0;34m\u001b[0m\u001b[0m\n",
      "\u001b[0;32m~/anaconda3/lib/python3.7/site-packages/IPython/core/pylabtools.py\u001b[0m in \u001b[0;36mactivate_matplotlib\u001b[0;34m(backend)\u001b[0m\n\u001b[1;32m    318\u001b[0m     \u001b[0;31m# when this function runs.\u001b[0m\u001b[0;34m\u001b[0m\u001b[0;34m\u001b[0m\u001b[0;34m\u001b[0m\u001b[0m\n\u001b[1;32m    319\u001b[0m     \u001b[0;31m# So avoid needing matplotlib attribute-lookup to access pyplot.\u001b[0m\u001b[0;34m\u001b[0m\u001b[0;34m\u001b[0m\u001b[0;34m\u001b[0m\u001b[0m\n\u001b[0;32m--> 320\u001b[0;31m     \u001b[0;32mfrom\u001b[0m \u001b[0mmatplotlib\u001b[0m \u001b[0;32mimport\u001b[0m \u001b[0mpyplot\u001b[0m \u001b[0;32mas\u001b[0m \u001b[0mplt\u001b[0m\u001b[0;34m\u001b[0m\u001b[0;34m\u001b[0m\u001b[0m\n\u001b[0m\u001b[1;32m    321\u001b[0m \u001b[0;34m\u001b[0m\u001b[0m\n\u001b[1;32m    322\u001b[0m     \u001b[0mplt\u001b[0m\u001b[0;34m.\u001b[0m\u001b[0mswitch_backend\u001b[0m\u001b[0;34m(\u001b[0m\u001b[0mbackend\u001b[0m\u001b[0;34m)\u001b[0m\u001b[0;34m\u001b[0m\u001b[0;34m\u001b[0m\u001b[0m\n",
      "\u001b[0;32m~/anaconda3/lib/python3.7/site-packages/matplotlib/pyplot.py\u001b[0m in \u001b[0;36m<module>\u001b[0;34m\u001b[0m\n\u001b[1;32m     66\u001b[0m \u001b[0;34m\u001b[0m\u001b[0m\n\u001b[1;32m     67\u001b[0m \u001b[0;32mfrom\u001b[0m \u001b[0mmatplotlib\u001b[0m \u001b[0;32mimport\u001b[0m \u001b[0mcm\u001b[0m\u001b[0;34m\u001b[0m\u001b[0;34m\u001b[0m\u001b[0m\n\u001b[0;32m---> 68\u001b[0;31m \u001b[0;32mfrom\u001b[0m \u001b[0mmatplotlib\u001b[0m\u001b[0;34m.\u001b[0m\u001b[0mcm\u001b[0m \u001b[0;32mimport\u001b[0m \u001b[0m_colormaps\u001b[0m \u001b[0;32mas\u001b[0m \u001b[0mcolormaps\u001b[0m\u001b[0;34m,\u001b[0m \u001b[0mget_cmap\u001b[0m\u001b[0;34m,\u001b[0m \u001b[0mregister_cmap\u001b[0m\u001b[0;34m\u001b[0m\u001b[0;34m\u001b[0m\u001b[0m\n\u001b[0m\u001b[1;32m     69\u001b[0m \u001b[0;34m\u001b[0m\u001b[0m\n\u001b[1;32m     70\u001b[0m \u001b[0;32mimport\u001b[0m \u001b[0mnumpy\u001b[0m \u001b[0;32mas\u001b[0m \u001b[0mnp\u001b[0m\u001b[0;34m\u001b[0m\u001b[0;34m\u001b[0m\u001b[0m\n",
      "\u001b[0;31mImportError\u001b[0m: cannot import name '_colormaps' from 'matplotlib.cm' (/Users/manon/anaconda3/lib/python3.7/site-packages/matplotlib/cm.py)"
     ]
    }
   ],
   "source": [
    "%matplotlib notebook\n",
    "import mido\n",
    "import matplotlib.pyplot as plt\n",
    "import matplotlib.patches as patches\n",
    "import pandas as pd"
   ]
  },
  {
   "cell_type": "code",
   "execution_count": null,
   "metadata": {},
   "outputs": [],
   "source": [
    "filename = \"KCP Major 1.mid\"\n",
    "m = mido.MidiFile(filename=filename)\n",
    "print(m.print_tracks())"
   ]
  },
  {
   "cell_type": "code",
   "execution_count": 40,
   "metadata": {},
   "outputs": [
    {
     "name": "stdout",
     "output_type": "stream",
     "text": [
      "     time  note  velocity  channel  id  time_release  time_duration  \\\n",
      "0       0    48        71        0   0          4094           4094   \n",
      "1       0    55        71        0   1          4094           4094   \n",
      "2       0    60        71        0   2          4094           4094   \n",
      "3       0    64        71        0   3          4094           4094   \n",
      "4    4096    43        71        0   4          8190           4094   \n",
      "5    4096    50        71        0   5          8190           4094   \n",
      "6    4096    59        71        0   6          8190           4094   \n",
      "7    4096    67        71        0   7          8190           4094   \n",
      "8    8192    45        71        0   8         12286           4094   \n",
      "9    8192    52        71        0   9         12286           4094   \n",
      "10   8192    60        71        0  10         12286           4094   \n",
      "11   8192    64        71        0  11         12286           4094   \n",
      "12  12288    41        71        0  12         16382           4094   \n",
      "13  12288    57        71        0  13         16382           4094   \n",
      "14  12288    60        71        0  14         16382           4094   \n",
      "15  12288    65        71        0  15         16382           4094   \n",
      "\n",
      "    velocity_release  \n",
      "0                 90  \n",
      "1                 90  \n",
      "2                 90  \n",
      "3                 90  \n",
      "4                 90  \n",
      "5                 90  \n",
      "6                 90  \n",
      "7                 90  \n",
      "8                 90  \n",
      "9                 90  \n",
      "10                90  \n",
      "11                90  \n",
      "12                90  \n",
      "13                90  \n",
      "14                90  \n",
      "15                90  \n"
     ]
    }
   ],
   "source": [
    "\n",
    "def track_to_dataframe(track, event_style=False):\n",
    "    records = []\n",
    "    track_name = \"\"\n",
    "    current_time = 0\n",
    "    # Event style dataframe\n",
    "    if event_style:\n",
    "        for x in track:\n",
    "            new_dict = x.__dict__.copy()\n",
    "            if new_dict[\"type\"] == \"track_name\":\n",
    "                track_name = new_dict[\"name\"]\n",
    "            else:\n",
    "                #Swapping name for coherence\n",
    "                new_dict[\"time_diff\"] = new_dict[\"time\"] \n",
    "                current_time += new_dict[\"time_diff\"]\n",
    "                new_dict[\"time\"] = current_time\n",
    "                new_dict[\"pressed\"] = new_dict[\"type\"] == \"note_on\"\n",
    "                new_dict[\"released\"] = new_dict[\"type\"] == \"note_off\"\n",
    "                records.append(new_dict)\n",
    "    else:\n",
    "        # Streaming style dataframe\n",
    "        pressed_notes = {}\n",
    "        id = 0\n",
    "        for x in track:\n",
    "            new_dict = x.__dict__.copy()\n",
    "            if new_dict[\"type\"] == \"track_name\":\n",
    "                track_name = new_dict[\"name\"]\n",
    "            else:\n",
    "                current_time += new_dict[\"time\"]\n",
    "                new_dict[\"time\"] = current_time\n",
    "                new_dict[\"time_release\"] = None\n",
    "                new_dict[\"time_duration\"] = None\n",
    "                new_dict[\"velocity_release\"] = None\n",
    "                if new_dict[\"type\"] == \"note_off\":\n",
    "                    former_pressed_note = pressed_notes[new_dict[\"note\"]]\n",
    "                    if former_pressed_note is None:\n",
    "                        raise ValueError(\"The given track has a released note that was never pressed in the first place\")\n",
    "                    pressed_record = records[former_pressed_note[\"id\"]]\n",
    "                    pressed_record[\"time_release\"] = current_time\n",
    "                    pressed_record[\"time_duration\"] = current_time - pressed_record[\"time\"]\n",
    "                    pressed_record[\"velocity_release\"] = new_dict[\"velocity\"]\n",
    "                    pressed_notes[new_dict[\"note\"]] = None\n",
    "                elif new_dict[\"type\"] == \"note_on\":\n",
    "                    pressed_notes[new_dict[\"note\"]] = {\"id\": id}\n",
    "                    del new_dict[\"type\"]\n",
    "                    records.append(new_dict)\n",
    "                    id += 1\n",
    "                                    \n",
    "    return pd.DataFrame(records)\n",
    "\n",
    "pd_track = track_to_dataframe(m.tracks[1])\n",
    "print(pd_track)\n",
    "\n"
   ]
  },
  {
   "cell_type": "code",
   "execution_count": 39,
   "metadata": {},
   "outputs": [
    {
     "data": {
      "application/vnd.jupyter.widget-view+json": {
       "model_id": "d18e8002734641b2bc99552cee4c7afa",
       "version_major": 2,
       "version_minor": 0
      },
      "image/png": "[encoded data removed]",
      "text/html": [
       "\n",
       "            <div style=\"display: inline-block;\">\n",
       "                <div class=\"jupyter-widgets widget-label\" style=\"text-align: center;\">\n",
       "                    Figure\n",
       "                </div>\n",
       "                <img src='data:image/png;base64,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' width=640.0/>\n",
       "            </div>\n",
       "        "
      ],
      "text/plain": [
       "Canvas(toolbar=Toolbar(toolitems=[('Home', 'Reset original view', 'home', 'home'), ('Back', 'Back to previous …"
      ]
     },
     "metadata": {},
     "output_type": "display_data"
    }
   ],
   "source": [
    "\n",
    "\n",
    "def plot_music(scheduled_style_df: pd.DataFrame, ax=None, cmap=plt.get_cmap(\"gist_rainbow\")):\n",
    "    if ax is None:\n",
    "        _, ax = plt.subplots()\n",
    "\n",
    "    for i, x in scheduled_style_df.iterrows():\n",
    "        rect = patches.Rectangle((x.time, x.note), width=x.time_duration, height=1, linewidth=0.2, edgecolor=(0,0,0), facecolor=cmap(x.note))\n",
    "        ax.add_patch(rect)\n",
    "    plt.xlim(0, scheduled_style_df.time_release.max())\n",
    "    plt.ylim(scheduled_style_df.note.min() - 3, scheduled_style_df.note.max() + 3)\n",
    "\n",
    "plot_music(pd_track)\n",
    "\n"
   ]
  },
  {
   "cell_type": "code",
   "execution_count": null,
   "metadata": {},
   "outputs": [],
   "source": []
  }
 ],
 "metadata": {
  "interpreter": {
   "hash": "19c66857149c87409e2281d71ac97d81f5ed895447554e4bbf73d5e29d3cd9b0"
  },
  "kernelspec": {
   "display_name": "Python 3",
   "language": "python",
   "name": "python3"
  },
  "language_info": {
   "codemirror_mode": {
    "name": "ipython",
    "version": 3
   },
   "file_extension": ".py",
   "mimetype": "text/x-python",
   "name": "python",
   "nbconvert_exporter": "python",
   "pygments_lexer": "ipython3",
   "version": "3.7.10"
  },
  "toc": {
   "base_numbering": 1,
   "nav_menu": {},
   "number_sections": true,
   "sideBar": true,
   "skip_h1_title": false,
   "title_cell": "Table of Contents",
   "title_sidebar": "Contents",
   "toc_cell": false,
   "toc_position": {},
   "toc_section_display": true,
   "toc_window_display": false
  }
 },
 "nbformat": 4,
 "nbformat_minor": 2
}
