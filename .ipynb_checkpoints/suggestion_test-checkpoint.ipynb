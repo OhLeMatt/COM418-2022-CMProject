{
 "cells": [
  {
   "cell_type": "code",
   "execution_count": 1,
   "id": "e301c4c5",
   "metadata": {},
   "outputs": [
    {
     "name": "stdout",
     "output_type": "stream",
     "text": [
      "Lydian Scale in F\n",
      "['F' 'G' 'A' 'B' 'C' 'D' 'E']\n",
      "======================\n",
      "[[ 9  0  4]\n",
      " [ 9  2  4]\n",
      " [ 9 11  4]\n",
      " [ 5  9  4]\n",
      " [ 7  9  4]]\n",
      "[['A' 'C' 'E']\n",
      " ['A' 'D' 'E']\n",
      " ['A' 'B' 'E']\n",
      " ['F' 'A' 'E']\n",
      " ['G' 'A' 'E']]\n"
     ]
    },
    {
     "name": "stderr",
     "output_type": "stream",
     "text": [
      "C:\\Users\\maxim\\COM418-2022-CMProject\\midi_utils.py:178: SettingWithCopyWarning: \n",
      "A value is trying to be set on a copy of a slice from a DataFrame\n",
      "\n",
      "See the caveats in the documentation: https://pandas.pydata.org/pandas-docs/stable/user_guide/indexing.html#returning-a-view-versus-a-copy\n",
      "  df[\"time_release\"].iloc[mapping] =  time_conv.to_time(df[\"ticks_release\"][mapping])\n",
      "C:\\Users\\maxim\\COM418-2022-CMProject\\midi_utils.py:179: SettingWithCopyWarning: \n",
      "A value is trying to be set on a copy of a slice from a DataFrame\n",
      "\n",
      "See the caveats in the documentation: https://pandas.pydata.org/pandas-docs/stable/user_guide/indexing.html#returning-a-view-versus-a-copy\n",
      "  df[\"bartime_release\"].iloc[mapping] = bartime_conv.to_bartime(df[\"ticks_release\"][mapping])\n"
     ]
    }
   ],
   "source": [
    "import mido\n",
    "from midi_frame import MidiFrame\n",
    "import scales\n",
    "from itertools import combinations\n",
    "import midi_utils as mu\n",
    "from suggestion import Suggestion\n",
    "import numpy as np\n",
    "\n",
    "\n",
    "\n",
    "\n",
    "m = mido.MidiFile(filename=\"MIDI_Files/vivconct.mid\")\n",
    "mf = MidiFrame(m, info_type=\"dispatched\")\n",
    "mf.make_playing_track_frame([i for i in range(16)])\n",
    "\n",
    "notes = mu.to_chroma(mf.playing_track_frame.get_sub_dataframe(0, 10).note.to_numpy())\n",
    "\n",
    "scale = scales.suggest_scales(notes)[0]\n",
    "scale = scale[0].scale_in(scale[1])\n",
    "print(scale)\n",
    "print(mu.CHROMA_NAMES[scale.chromas])\n",
    "print(\"======================\")\n",
    "\n",
    "nb_note = 3\n",
    "nb_chord = 5 # not a problem if more than nb of combinations\n",
    "sug = Suggestion(nb_note, scale, notes)\n",
    "chords = sug.suggest_chord(nb_chord)\n",
    "print(chords)\n",
    "print(mu.CHROMA_NAMES[sug.suggest_chord(nb_chord)])"
   ]
  },
  {
   "cell_type": "code",
   "execution_count": null,
   "id": "455a4238",
   "metadata": {},
   "outputs": [],
   "source": []
  }
 ],
 "metadata": {
  "kernelspec": {
   "display_name": "Python 3 (ipykernel)",
   "language": "python",
   "name": "python3"
  },
  "language_info": {
   "codemirror_mode": {
    "name": "ipython",
    "version": 3
   },
   "file_extension": ".py",
   "mimetype": "text/x-python",
   "name": "python",
   "nbconvert_exporter": "python",
   "pygments_lexer": "ipython3",
   "version": "3.8.13"
  }
 },
 "nbformat": 4,
 "nbformat_minor": 5
}
